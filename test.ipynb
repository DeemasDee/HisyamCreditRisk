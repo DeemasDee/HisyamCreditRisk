{
 "cells": [
  {
   "cell_type": "code",
   "execution_count": 47,
   "metadata": {},
   "outputs": [],
   "source": [
    "import pandas as pd\n",
    "import numpy as np\n",
    "from sklearn.model_selection import train_test_split\n",
    "import joblib"
   ]
  },
  {
   "cell_type": "code",
   "execution_count": 48,
   "metadata": {},
   "outputs": [],
   "source": [
    "def load_data(filename):\n",
    "  df = pd.read_csv(filename, low_memory = False)\n",
    "  data = df.shape\n",
    "  print(f'Data Shape : {data}')\n",
    "  return df\n",
    "    "
   ]
  },
  {
   "cell_type": "code",
   "execution_count": 49,
   "metadata": {},
   "outputs": [
    {
     "name": "stdout",
     "output_type": "stream",
     "text": [
      "Data Shape : (32581, 12)\n"
     ]
    }
   ],
   "source": [
    "filename = '../Dataset/credit_risk_dataset_week_2_ML_Process.csv'\n",
    "data = load_data(filename)"
   ]
  },
  {
   "cell_type": "code",
   "execution_count": 50,
   "metadata": {},
   "outputs": [
    {
     "data": {
      "text/html": [
       "<div>\n",
       "<style scoped>\n",
       "    .dataframe tbody tr th:only-of-type {\n",
       "        vertical-align: middle;\n",
       "    }\n",
       "\n",
       "    .dataframe tbody tr th {\n",
       "        vertical-align: top;\n",
       "    }\n",
       "\n",
       "    .dataframe thead th {\n",
       "        text-align: right;\n",
       "    }\n",
       "</style>\n",
       "<table border=\"1\" class=\"dataframe\">\n",
       "  <thead>\n",
       "    <tr style=\"text-align: right;\">\n",
       "      <th></th>\n",
       "      <th>person_age</th>\n",
       "      <th>person_income</th>\n",
       "      <th>person_home_ownership</th>\n",
       "      <th>person_emp_length</th>\n",
       "      <th>loan_intent</th>\n",
       "      <th>loan_grade</th>\n",
       "      <th>loan_amnt</th>\n",
       "      <th>loan_int_rate</th>\n",
       "      <th>loan_status</th>\n",
       "      <th>loan_percent_income</th>\n",
       "      <th>cb_person_default_on_file</th>\n",
       "      <th>cb_person_cred_hist_length</th>\n",
       "    </tr>\n",
       "  </thead>\n",
       "  <tbody>\n",
       "    <tr>\n",
       "      <th>0</th>\n",
       "      <td>22</td>\n",
       "      <td>59000</td>\n",
       "      <td>RENT</td>\n",
       "      <td>123.0</td>\n",
       "      <td>PERSONAL</td>\n",
       "      <td>D</td>\n",
       "      <td>35000</td>\n",
       "      <td>16.02</td>\n",
       "      <td>1</td>\n",
       "      <td>0.59</td>\n",
       "      <td>Y</td>\n",
       "      <td>3</td>\n",
       "    </tr>\n",
       "    <tr>\n",
       "      <th>1</th>\n",
       "      <td>21</td>\n",
       "      <td>9600</td>\n",
       "      <td>OWN</td>\n",
       "      <td>5.0</td>\n",
       "      <td>EDUCATION</td>\n",
       "      <td>B</td>\n",
       "      <td>1000</td>\n",
       "      <td>11.14</td>\n",
       "      <td>0</td>\n",
       "      <td>0.10</td>\n",
       "      <td>N</td>\n",
       "      <td>2</td>\n",
       "    </tr>\n",
       "    <tr>\n",
       "      <th>2</th>\n",
       "      <td>25</td>\n",
       "      <td>9600</td>\n",
       "      <td>MORTGAGE</td>\n",
       "      <td>1.0</td>\n",
       "      <td>MEDICAL</td>\n",
       "      <td>C</td>\n",
       "      <td>5500</td>\n",
       "      <td>12.87</td>\n",
       "      <td>1</td>\n",
       "      <td>0.57</td>\n",
       "      <td>N</td>\n",
       "      <td>3</td>\n",
       "    </tr>\n",
       "    <tr>\n",
       "      <th>3</th>\n",
       "      <td>23</td>\n",
       "      <td>65500</td>\n",
       "      <td>RENT</td>\n",
       "      <td>4.0</td>\n",
       "      <td>MEDICAL</td>\n",
       "      <td>C</td>\n",
       "      <td>35000</td>\n",
       "      <td>15.23</td>\n",
       "      <td>1</td>\n",
       "      <td>0.53</td>\n",
       "      <td>N</td>\n",
       "      <td>2</td>\n",
       "    </tr>\n",
       "    <tr>\n",
       "      <th>4</th>\n",
       "      <td>24</td>\n",
       "      <td>54400</td>\n",
       "      <td>RENT</td>\n",
       "      <td>8.0</td>\n",
       "      <td>MEDICAL</td>\n",
       "      <td>C</td>\n",
       "      <td>35000</td>\n",
       "      <td>14.27</td>\n",
       "      <td>1</td>\n",
       "      <td>0.55</td>\n",
       "      <td>Y</td>\n",
       "      <td>4</td>\n",
       "    </tr>\n",
       "  </tbody>\n",
       "</table>\n",
       "</div>"
      ],
      "text/plain": [
       "   person_age  person_income person_home_ownership  person_emp_length  \\\n",
       "0          22          59000                  RENT              123.0   \n",
       "1          21           9600                   OWN                5.0   \n",
       "2          25           9600              MORTGAGE                1.0   \n",
       "3          23          65500                  RENT                4.0   \n",
       "4          24          54400                  RENT                8.0   \n",
       "\n",
       "  loan_intent loan_grade  loan_amnt  loan_int_rate  loan_status  \\\n",
       "0    PERSONAL          D      35000          16.02            1   \n",
       "1   EDUCATION          B       1000          11.14            0   \n",
       "2     MEDICAL          C       5500          12.87            1   \n",
       "3     MEDICAL          C      35000          15.23            1   \n",
       "4     MEDICAL          C      35000          14.27            1   \n",
       "\n",
       "   loan_percent_income cb_person_default_on_file  cb_person_cred_hist_length  \n",
       "0                 0.59                         Y                           3  \n",
       "1                 0.10                         N                           2  \n",
       "2                 0.57                         N                           3  \n",
       "3                 0.53                         N                           2  \n",
       "4                 0.55                         Y                           4  "
      ]
     },
     "execution_count": 50,
     "metadata": {},
     "output_type": "execute_result"
    }
   ],
   "source": [
    "data.head()"
   ]
  },
  {
   "cell_type": "markdown",
   "metadata": {},
   "source": [
    "Split Input Output"
   ]
  },
  {
   "cell_type": "code",
   "execution_count": 51,
   "metadata": {},
   "outputs": [],
   "source": [
    "def split_input_output(data, target_column):\n",
    "  X = data.drop(target_column, axis = 1)\n",
    "  y = data[target_column]\n",
    "  print(f'Original Data Shape : {data.shape}')\n",
    "  print(f'X Data Shape : {X.shape}')\n",
    "  print(f'y Data Shape : {y.shape}')\n",
    "  return X, y"
   ]
  },
  {
   "cell_type": "code",
   "execution_count": 52,
   "metadata": {},
   "outputs": [
    {
     "name": "stdout",
     "output_type": "stream",
     "text": [
      "Original Data Shape : (32581, 12)\n",
      "X Data Shape : (32581, 11)\n",
      "y Data Shape : (32581,)\n"
     ]
    }
   ],
   "source": [
    "X,y = split_input_output(data, 'loan_status')"
   ]
  },
  {
   "cell_type": "markdown",
   "metadata": {},
   "source": [
    "Train Test Split"
   ]
  },
  {
   "cell_type": "code",
   "execution_count": 53,
   "metadata": {},
   "outputs": [],
   "source": [
    "def split_train_test(X, y, test_size, random_state):\n",
    "  X_train, X_test, y_train, y_test = train_test_split(X, y, test_size=test_size, random_state =random_state, stratify=y)\n",
    "  print(f'X_train Shape : {X_train.shape}')\n",
    "  print(f'X_test Shape : {X_test.shape}')\n",
    "  print(f'y_train Shape : {y_train.shape}')\n",
    "  print(f'y_test Shape : {y_test.shape}')\n",
    "  return X_train, X_test, y_train, y_test"
   ]
  },
  {
   "cell_type": "code",
   "execution_count": 54,
   "metadata": {},
   "outputs": [
    {
     "name": "stdout",
     "output_type": "stream",
     "text": [
      "X_train Shape : (26064, 11)\n",
      "X_test Shape : (6517, 11)\n",
      "y_train Shape : (26064,)\n",
      "y_test Shape : (6517,)\n"
     ]
    }
   ],
   "source": [
    "X_train, X_not_train, y_train, y_not_train = split_train_test(X, y, test_size = 0.2, random_state = 42)"
   ]
  },
  {
   "cell_type": "code",
   "execution_count": 55,
   "metadata": {},
   "outputs": [
    {
     "name": "stdout",
     "output_type": "stream",
     "text": [
      "X_train Shape : (3258, 11)\n",
      "X_test Shape : (3259, 11)\n",
      "y_train Shape : (3258,)\n",
      "y_test Shape : (3259,)\n"
     ]
    }
   ],
   "source": [
    "X_valid, X_test, y_valid, y_test = split_train_test(X_not_train, y_not_train, test_size = 0.5, random_state = 42)"
   ]
  },
  {
   "cell_type": "markdown",
   "metadata": {},
   "source": [
    "Serialize Data"
   ]
  },
  {
   "cell_type": "code",
   "execution_count": 56,
   "metadata": {},
   "outputs": [],
   "source": [
    "def serialize_data(data, path):\n",
    "  joblib.dump(data, path)"
   ]
  },
  {
   "cell_type": "code",
   "execution_count": 57,
   "metadata": {},
   "outputs": [],
   "source": [
    "directory = '../data/processed/'   # change file directory accordingly\n",
    "\n",
    "serialize_data(X_train, directory +'X_train.pkl')\n",
    "serialize_data(X_valid, directory +'X_valid.pkl')\n",
    "serialize_data(X_test,  directory +'X_test.pkl')\n",
    "serialize_data(y_train, directory +'y_train.pkl')\n",
    "serialize_data(y_valid, directory +'y_valid.pkl')\n",
    "serialize_data(y_test,  directory +'y_test.pkl')"
   ]
  },
  {
   "cell_type": "markdown",
   "metadata": {},
   "source": [
    "Deserialized Data"
   ]
  },
  {
   "cell_type": "code",
   "execution_count": 58,
   "metadata": {},
   "outputs": [],
   "source": [
    "def deserialize_data(path):\n",
    "  data = joblib.load(path)\n",
    "  return data"
   ]
  },
  {
   "cell_type": "markdown",
   "metadata": {},
   "source": [
    "EDA"
   ]
  },
  {
   "cell_type": "code",
   "execution_count": 59,
   "metadata": {},
   "outputs": [
    {
     "name": "stdout",
     "output_type": "stream",
     "text": [
      "c:\\Users\\Admin\\Documents\\project\\Hisyam\\CreditRisk\\src\n"
     ]
    },
    {
     "name": "stderr",
     "output_type": "stream",
     "text": [
      "c:\\Users\\Admin\\Documents\\project\\Hisyam\\CreditRisk\\.venv\\Lib\\site-packages\\IPython\\core\\magics\\osm.py:417: UserWarning: This is now an optional IPython functionality, setting dhist requires you to install the `pickleshare` library.\n",
      "  self.shell.db['dhist'] = compress_dhist(dhist)[-100:]\n"
     ]
    }
   ],
   "source": [
    "%cd ../src"
   ]
  },
  {
   "cell_type": "code",
   "execution_count": 62,
   "metadata": {},
   "outputs": [],
   "source": [
    "import utils \n",
    "import pandas as pd\n",
    "import numpy as np\n",
    "import matplotlib.pyplot as plt\n",
    "import seaborn as sns"
   ]
  },
  {
   "cell_type": "code",
   "execution_count": 63,
   "metadata": {},
   "outputs": [],
   "source": [
    "X_TRAIN_PATH = '../data/processed/X_train.pkl' \n",
    "Y_TRAIN_PATH = '../data/processed/y_train.pkl' \n",
    "\n",
    "X_train = utils.deserialize_data(X_TRAIN_PATH)\n",
    "y_train = utils.deserialize_data(Y_TRAIN_PATH)"
   ]
  },
  {
   "cell_type": "code",
   "execution_count": 64,
   "metadata": {},
   "outputs": [
    {
     "data": {
      "text/html": [
       "<div>\n",
       "<style scoped>\n",
       "    .dataframe tbody tr th:only-of-type {\n",
       "        vertical-align: middle;\n",
       "    }\n",
       "\n",
       "    .dataframe tbody tr th {\n",
       "        vertical-align: top;\n",
       "    }\n",
       "\n",
       "    .dataframe thead th {\n",
       "        text-align: right;\n",
       "    }\n",
       "</style>\n",
       "<table border=\"1\" class=\"dataframe\">\n",
       "  <thead>\n",
       "    <tr style=\"text-align: right;\">\n",
       "      <th></th>\n",
       "      <th>person_age</th>\n",
       "      <th>person_income</th>\n",
       "      <th>person_home_ownership</th>\n",
       "      <th>person_emp_length</th>\n",
       "      <th>loan_intent</th>\n",
       "      <th>loan_grade</th>\n",
       "      <th>loan_amnt</th>\n",
       "      <th>loan_int_rate</th>\n",
       "      <th>loan_percent_income</th>\n",
       "      <th>cb_person_default_on_file</th>\n",
       "      <th>cb_person_cred_hist_length</th>\n",
       "    </tr>\n",
       "  </thead>\n",
       "  <tbody>\n",
       "    <tr>\n",
       "      <th>15884</th>\n",
       "      <td>25</td>\n",
       "      <td>241875</td>\n",
       "      <td>MORTGAGE</td>\n",
       "      <td>4.0</td>\n",
       "      <td>EDUCATION</td>\n",
       "      <td>A</td>\n",
       "      <td>16000</td>\n",
       "      <td>7.05</td>\n",
       "      <td>0.07</td>\n",
       "      <td>N</td>\n",
       "      <td>4</td>\n",
       "    </tr>\n",
       "    <tr>\n",
       "      <th>15138</th>\n",
       "      <td>21</td>\n",
       "      <td>18000</td>\n",
       "      <td>RENT</td>\n",
       "      <td>5.0</td>\n",
       "      <td>PERSONAL</td>\n",
       "      <td>B</td>\n",
       "      <td>1500</td>\n",
       "      <td>12.18</td>\n",
       "      <td>0.08</td>\n",
       "      <td>N</td>\n",
       "      <td>4</td>\n",
       "    </tr>\n",
       "    <tr>\n",
       "      <th>7474</th>\n",
       "      <td>25</td>\n",
       "      <td>53000</td>\n",
       "      <td>MORTGAGE</td>\n",
       "      <td>10.0</td>\n",
       "      <td>MEDICAL</td>\n",
       "      <td>B</td>\n",
       "      <td>16000</td>\n",
       "      <td>12.53</td>\n",
       "      <td>0.30</td>\n",
       "      <td>N</td>\n",
       "      <td>2</td>\n",
       "    </tr>\n",
       "    <tr>\n",
       "      <th>18212</th>\n",
       "      <td>28</td>\n",
       "      <td>16800</td>\n",
       "      <td>OWN</td>\n",
       "      <td>NaN</td>\n",
       "      <td>MEDICAL</td>\n",
       "      <td>C</td>\n",
       "      <td>5000</td>\n",
       "      <td>13.98</td>\n",
       "      <td>0.30</td>\n",
       "      <td>N</td>\n",
       "      <td>8</td>\n",
       "    </tr>\n",
       "    <tr>\n",
       "      <th>6493</th>\n",
       "      <td>25</td>\n",
       "      <td>50000</td>\n",
       "      <td>MORTGAGE</td>\n",
       "      <td>2.0</td>\n",
       "      <td>VENTURE</td>\n",
       "      <td>A</td>\n",
       "      <td>10000</td>\n",
       "      <td>7.90</td>\n",
       "      <td>0.20</td>\n",
       "      <td>N</td>\n",
       "      <td>2</td>\n",
       "    </tr>\n",
       "  </tbody>\n",
       "</table>\n",
       "</div>"
      ],
      "text/plain": [
       "       person_age  person_income person_home_ownership  person_emp_length  \\\n",
       "15884          25         241875              MORTGAGE                4.0   \n",
       "15138          21          18000                  RENT                5.0   \n",
       "7474           25          53000              MORTGAGE               10.0   \n",
       "18212          28          16800                   OWN                NaN   \n",
       "6493           25          50000              MORTGAGE                2.0   \n",
       "\n",
       "      loan_intent loan_grade  loan_amnt  loan_int_rate  loan_percent_income  \\\n",
       "15884   EDUCATION          A      16000           7.05                 0.07   \n",
       "15138    PERSONAL          B       1500          12.18                 0.08   \n",
       "7474      MEDICAL          B      16000          12.53                 0.30   \n",
       "18212     MEDICAL          C       5000          13.98                 0.30   \n",
       "6493      VENTURE          A      10000           7.90                 0.20   \n",
       "\n",
       "      cb_person_default_on_file  cb_person_cred_hist_length  \n",
       "15884                         N                           4  \n",
       "15138                         N                           4  \n",
       "7474                          N                           2  \n",
       "18212                         N                           8  \n",
       "6493                          N                           2  "
      ]
     },
     "execution_count": 64,
     "metadata": {},
     "output_type": "execute_result"
    }
   ],
   "source": [
    "X_train.head()"
   ]
  },
  {
   "cell_type": "code",
   "execution_count": 65,
   "metadata": {},
   "outputs": [],
   "source": [
    "num_cols = ['person_age','person_income','person_emp_length','loan_amnt',\n",
    "            'loan_int_rate','loan_percent_income','cb_person_cred_hist_length']\n",
    "\n",
    "cat_cols = ['person_home_ownership','loan_intent','loan_grade','cb_person_default_on_file']"
   ]
  },
  {
   "cell_type": "code",
   "execution_count": 66,
   "metadata": {},
   "outputs": [
    {
     "name": "stdout",
     "output_type": "stream",
     "text": [
      "<class 'pandas.core.frame.DataFrame'>\n",
      "Index: 26064 entries, 15884 to 17068\n",
      "Data columns (total 11 columns):\n",
      " #   Column                      Non-Null Count  Dtype  \n",
      "---  ------                      --------------  -----  \n",
      " 0   person_age                  26064 non-null  int64  \n",
      " 1   person_income               26064 non-null  int64  \n",
      " 2   person_home_ownership       26064 non-null  object \n",
      " 3   person_emp_length           25326 non-null  float64\n",
      " 4   loan_intent                 26064 non-null  object \n",
      " 5   loan_grade                  26064 non-null  object \n",
      " 6   loan_amnt                   26064 non-null  int64  \n",
      " 7   loan_int_rate               23563 non-null  float64\n",
      " 8   loan_percent_income         26064 non-null  float64\n",
      " 9   cb_person_default_on_file   26064 non-null  object \n",
      " 10  cb_person_cred_hist_length  26064 non-null  int64  \n",
      "dtypes: float64(3), int64(4), object(4)\n",
      "memory usage: 2.4+ MB\n"
     ]
    }
   ],
   "source": [
    "X_train.info()"
   ]
  },
  {
   "cell_type": "markdown",
   "metadata": {},
   "source": [
    "In terms of variable’s data type, everything seems to be in accordance hence alteration is not required"
   ]
  },
  {
   "cell_type": "code",
   "execution_count": 67,
   "metadata": {},
   "outputs": [],
   "source": [
    "# create into a dataframe to display the total null and null percentages\n",
    "\n",
    "def null_values(data):\n",
    "\n",
    "    # Calculate null values and null percentages\n",
    "    null_values = data.isnull().sum()\n",
    "    null_percentage = (data.isnull().sum() / len(data) * 100).round(2)\n",
    "\n",
    "    # Create a dictionary with the results\n",
    "    null_dict = {\n",
    "        'column': null_values.index,\n",
    "        'null_values': null_values.values,\n",
    "        'null_percentage': null_percentage.values\n",
    "    }\n",
    "\n",
    "    # Create a DataFrame using the dictionary\n",
    "    null_df = pd.DataFrame(null_dict)\n",
    "\n",
    "    return null_df"
   ]
  },
  {
   "cell_type": "code",
   "execution_count": 68,
   "metadata": {},
   "outputs": [
    {
     "data": {
      "text/html": [
       "<div>\n",
       "<style scoped>\n",
       "    .dataframe tbody tr th:only-of-type {\n",
       "        vertical-align: middle;\n",
       "    }\n",
       "\n",
       "    .dataframe tbody tr th {\n",
       "        vertical-align: top;\n",
       "    }\n",
       "\n",
       "    .dataframe thead th {\n",
       "        text-align: right;\n",
       "    }\n",
       "</style>\n",
       "<table border=\"1\" class=\"dataframe\">\n",
       "  <thead>\n",
       "    <tr style=\"text-align: right;\">\n",
       "      <th></th>\n",
       "      <th>column</th>\n",
       "      <th>null_values</th>\n",
       "      <th>null_percentage</th>\n",
       "    </tr>\n",
       "  </thead>\n",
       "  <tbody>\n",
       "    <tr>\n",
       "      <th>0</th>\n",
       "      <td>person_age</td>\n",
       "      <td>0</td>\n",
       "      <td>0.00</td>\n",
       "    </tr>\n",
       "    <tr>\n",
       "      <th>1</th>\n",
       "      <td>person_income</td>\n",
       "      <td>0</td>\n",
       "      <td>0.00</td>\n",
       "    </tr>\n",
       "    <tr>\n",
       "      <th>2</th>\n",
       "      <td>person_home_ownership</td>\n",
       "      <td>0</td>\n",
       "      <td>0.00</td>\n",
       "    </tr>\n",
       "    <tr>\n",
       "      <th>3</th>\n",
       "      <td>person_emp_length</td>\n",
       "      <td>738</td>\n",
       "      <td>2.83</td>\n",
       "    </tr>\n",
       "    <tr>\n",
       "      <th>4</th>\n",
       "      <td>loan_intent</td>\n",
       "      <td>0</td>\n",
       "      <td>0.00</td>\n",
       "    </tr>\n",
       "    <tr>\n",
       "      <th>5</th>\n",
       "      <td>loan_grade</td>\n",
       "      <td>0</td>\n",
       "      <td>0.00</td>\n",
       "    </tr>\n",
       "    <tr>\n",
       "      <th>6</th>\n",
       "      <td>loan_amnt</td>\n",
       "      <td>0</td>\n",
       "      <td>0.00</td>\n",
       "    </tr>\n",
       "    <tr>\n",
       "      <th>7</th>\n",
       "      <td>loan_int_rate</td>\n",
       "      <td>2501</td>\n",
       "      <td>9.60</td>\n",
       "    </tr>\n",
       "    <tr>\n",
       "      <th>8</th>\n",
       "      <td>loan_percent_income</td>\n",
       "      <td>0</td>\n",
       "      <td>0.00</td>\n",
       "    </tr>\n",
       "    <tr>\n",
       "      <th>9</th>\n",
       "      <td>cb_person_default_on_file</td>\n",
       "      <td>0</td>\n",
       "      <td>0.00</td>\n",
       "    </tr>\n",
       "    <tr>\n",
       "      <th>10</th>\n",
       "      <td>cb_person_cred_hist_length</td>\n",
       "      <td>0</td>\n",
       "      <td>0.00</td>\n",
       "    </tr>\n",
       "  </tbody>\n",
       "</table>\n",
       "</div>"
      ],
      "text/plain": [
       "                        column  null_values  null_percentage\n",
       "0                   person_age            0             0.00\n",
       "1                person_income            0             0.00\n",
       "2        person_home_ownership            0             0.00\n",
       "3            person_emp_length          738             2.83\n",
       "4                  loan_intent            0             0.00\n",
       "5                   loan_grade            0             0.00\n",
       "6                    loan_amnt            0             0.00\n",
       "7                loan_int_rate         2501             9.60\n",
       "8          loan_percent_income            0             0.00\n",
       "9    cb_person_default_on_file            0             0.00\n",
       "10  cb_person_cred_hist_length            0             0.00"
      ]
     },
     "execution_count": 68,
     "metadata": {},
     "output_type": "execute_result"
    }
   ],
   "source": [
    "null_values(X_train)"
   ]
  },
  {
   "cell_type": "code",
   "execution_count": 69,
   "metadata": {},
   "outputs": [
    {
     "data": {
      "text/html": [
       "<div>\n",
       "<style scoped>\n",
       "    .dataframe tbody tr th:only-of-type {\n",
       "        vertical-align: middle;\n",
       "    }\n",
       "\n",
       "    .dataframe tbody tr th {\n",
       "        vertical-align: top;\n",
       "    }\n",
       "\n",
       "    .dataframe thead th {\n",
       "        text-align: right;\n",
       "    }\n",
       "</style>\n",
       "<table border=\"1\" class=\"dataframe\">\n",
       "  <thead>\n",
       "    <tr style=\"text-align: right;\">\n",
       "      <th></th>\n",
       "      <th>person_age</th>\n",
       "      <th>person_income</th>\n",
       "      <th>person_home_ownership</th>\n",
       "      <th>person_emp_length</th>\n",
       "      <th>loan_intent</th>\n",
       "      <th>loan_grade</th>\n",
       "      <th>loan_amnt</th>\n",
       "      <th>loan_int_rate</th>\n",
       "      <th>loan_percent_income</th>\n",
       "      <th>cb_person_default_on_file</th>\n",
       "      <th>cb_person_cred_hist_length</th>\n",
       "    </tr>\n",
       "  </thead>\n",
       "  <tbody>\n",
       "    <tr>\n",
       "      <th>27881</th>\n",
       "      <td>28</td>\n",
       "      <td>604000</td>\n",
       "      <td>MORTGAGE</td>\n",
       "      <td>12.0</td>\n",
       "      <td>PERSONAL</td>\n",
       "      <td>B</td>\n",
       "      <td>25000</td>\n",
       "      <td>9.01</td>\n",
       "      <td>0.04</td>\n",
       "      <td>N</td>\n",
       "      <td>9</td>\n",
       "    </tr>\n",
       "    <tr>\n",
       "      <th>28770</th>\n",
       "      <td>28</td>\n",
       "      <td>604000</td>\n",
       "      <td>MORTGAGE</td>\n",
       "      <td>12.0</td>\n",
       "      <td>PERSONAL</td>\n",
       "      <td>B</td>\n",
       "      <td>25000</td>\n",
       "      <td>9.01</td>\n",
       "      <td>0.04</td>\n",
       "      <td>N</td>\n",
       "      <td>9</td>\n",
       "    </tr>\n",
       "    <tr>\n",
       "      <th>29160</th>\n",
       "      <td>36</td>\n",
       "      <td>250000</td>\n",
       "      <td>RENT</td>\n",
       "      <td>2.0</td>\n",
       "      <td>DEBTCONSOLIDATION</td>\n",
       "      <td>A</td>\n",
       "      <td>20000</td>\n",
       "      <td>7.88</td>\n",
       "      <td>0.08</td>\n",
       "      <td>N</td>\n",
       "      <td>17</td>\n",
       "    </tr>\n",
       "    <tr>\n",
       "      <th>32047</th>\n",
       "      <td>36</td>\n",
       "      <td>250000</td>\n",
       "      <td>RENT</td>\n",
       "      <td>2.0</td>\n",
       "      <td>DEBTCONSOLIDATION</td>\n",
       "      <td>A</td>\n",
       "      <td>20000</td>\n",
       "      <td>7.88</td>\n",
       "      <td>0.08</td>\n",
       "      <td>N</td>\n",
       "      <td>17</td>\n",
       "    </tr>\n",
       "    <tr>\n",
       "      <th>27677</th>\n",
       "      <td>35</td>\n",
       "      <td>160000</td>\n",
       "      <td>OWN</td>\n",
       "      <td>10.0</td>\n",
       "      <td>VENTURE</td>\n",
       "      <td>B</td>\n",
       "      <td>24000</td>\n",
       "      <td>11.83</td>\n",
       "      <td>0.15</td>\n",
       "      <td>N</td>\n",
       "      <td>9</td>\n",
       "    </tr>\n",
       "    <tr>\n",
       "      <th>...</th>\n",
       "      <td>...</td>\n",
       "      <td>...</td>\n",
       "      <td>...</td>\n",
       "      <td>...</td>\n",
       "      <td>...</td>\n",
       "      <td>...</td>\n",
       "      <td>...</td>\n",
       "      <td>...</td>\n",
       "      <td>...</td>\n",
       "      <td>...</td>\n",
       "      <td>...</td>\n",
       "    </tr>\n",
       "    <tr>\n",
       "      <th>18261</th>\n",
       "      <td>32</td>\n",
       "      <td>18000</td>\n",
       "      <td>OWN</td>\n",
       "      <td>0.0</td>\n",
       "      <td>VENTURE</td>\n",
       "      <td>A</td>\n",
       "      <td>4750</td>\n",
       "      <td>7.88</td>\n",
       "      <td>0.26</td>\n",
       "      <td>N</td>\n",
       "      <td>6</td>\n",
       "    </tr>\n",
       "    <tr>\n",
       "      <th>2431</th>\n",
       "      <td>21</td>\n",
       "      <td>15600</td>\n",
       "      <td>RENT</td>\n",
       "      <td>0.0</td>\n",
       "      <td>MEDICAL</td>\n",
       "      <td>A</td>\n",
       "      <td>2800</td>\n",
       "      <td>7.40</td>\n",
       "      <td>0.18</td>\n",
       "      <td>N</td>\n",
       "      <td>4</td>\n",
       "    </tr>\n",
       "    <tr>\n",
       "      <th>17758</th>\n",
       "      <td>21</td>\n",
       "      <td>15600</td>\n",
       "      <td>RENT</td>\n",
       "      <td>0.0</td>\n",
       "      <td>MEDICAL</td>\n",
       "      <td>A</td>\n",
       "      <td>2800</td>\n",
       "      <td>7.40</td>\n",
       "      <td>0.18</td>\n",
       "      <td>N</td>\n",
       "      <td>4</td>\n",
       "    </tr>\n",
       "    <tr>\n",
       "      <th>15952</th>\n",
       "      <td>24</td>\n",
       "      <td>7800</td>\n",
       "      <td>RENT</td>\n",
       "      <td>1.0</td>\n",
       "      <td>EDUCATION</td>\n",
       "      <td>B</td>\n",
       "      <td>1000</td>\n",
       "      <td>11.36</td>\n",
       "      <td>0.13</td>\n",
       "      <td>N</td>\n",
       "      <td>4</td>\n",
       "    </tr>\n",
       "    <tr>\n",
       "      <th>16821</th>\n",
       "      <td>24</td>\n",
       "      <td>7800</td>\n",
       "      <td>RENT</td>\n",
       "      <td>1.0</td>\n",
       "      <td>EDUCATION</td>\n",
       "      <td>B</td>\n",
       "      <td>1000</td>\n",
       "      <td>11.36</td>\n",
       "      <td>0.13</td>\n",
       "      <td>N</td>\n",
       "      <td>4</td>\n",
       "    </tr>\n",
       "  </tbody>\n",
       "</table>\n",
       "<p>192 rows × 11 columns</p>\n",
       "</div>"
      ],
      "text/plain": [
       "       person_age  person_income person_home_ownership  person_emp_length  \\\n",
       "27881          28         604000              MORTGAGE               12.0   \n",
       "28770          28         604000              MORTGAGE               12.0   \n",
       "29160          36         250000                  RENT                2.0   \n",
       "32047          36         250000                  RENT                2.0   \n",
       "27677          35         160000                   OWN               10.0   \n",
       "...           ...            ...                   ...                ...   \n",
       "18261          32          18000                   OWN                0.0   \n",
       "2431           21          15600                  RENT                0.0   \n",
       "17758          21          15600                  RENT                0.0   \n",
       "15952          24           7800                  RENT                1.0   \n",
       "16821          24           7800                  RENT                1.0   \n",
       "\n",
       "             loan_intent loan_grade  loan_amnt  loan_int_rate  \\\n",
       "27881           PERSONAL          B      25000           9.01   \n",
       "28770           PERSONAL          B      25000           9.01   \n",
       "29160  DEBTCONSOLIDATION          A      20000           7.88   \n",
       "32047  DEBTCONSOLIDATION          A      20000           7.88   \n",
       "27677            VENTURE          B      24000          11.83   \n",
       "...                  ...        ...        ...            ...   \n",
       "18261            VENTURE          A       4750           7.88   \n",
       "2431             MEDICAL          A       2800           7.40   \n",
       "17758            MEDICAL          A       2800           7.40   \n",
       "15952          EDUCATION          B       1000          11.36   \n",
       "16821          EDUCATION          B       1000          11.36   \n",
       "\n",
       "       loan_percent_income cb_person_default_on_file  \\\n",
       "27881                 0.04                         N   \n",
       "28770                 0.04                         N   \n",
       "29160                 0.08                         N   \n",
       "32047                 0.08                         N   \n",
       "27677                 0.15                         N   \n",
       "...                    ...                       ...   \n",
       "18261                 0.26                         N   \n",
       "2431                  0.18                         N   \n",
       "17758                 0.18                         N   \n",
       "15952                 0.13                         N   \n",
       "16821                 0.13                         N   \n",
       "\n",
       "       cb_person_cred_hist_length  \n",
       "27881                           9  \n",
       "28770                           9  \n",
       "29160                          17  \n",
       "32047                          17  \n",
       "27677                           9  \n",
       "...                           ...  \n",
       "18261                           6  \n",
       "2431                            4  \n",
       "17758                           4  \n",
       "15952                           4  \n",
       "16821                           4  \n",
       "\n",
       "[192 rows x 11 columns]"
      ]
     },
     "execution_count": 69,
     "metadata": {},
     "output_type": "execute_result"
    }
   ],
   "source": [
    "X_train[X_train.duplicated(keep = False)].sort_values(['person_income'],ascending= False)"
   ]
  },
  {
   "cell_type": "markdown",
   "metadata": {},
   "source": [
    "We should remove the duplicated rows and keep the first records."
   ]
  },
  {
   "cell_type": "code",
   "execution_count": 70,
   "metadata": {},
   "outputs": [],
   "source": [
    "def null_values(data):\n",
    "\n",
    "    # Calculate null values and null percentages\n",
    "    null_values = data.isnull().sum()\n",
    "    null_percentage = (data.isnull().sum() / len(data) * 100).round(2)\n",
    "\n",
    "    # Create a dictionary with the results\n",
    "    null_dict = {\n",
    "        'column': null_values.index,\n",
    "        'null_values': null_values.values,\n",
    "        'null_percentage': null_percentage.values\n",
    "    }\n",
    "\n",
    "    # Create a DataFrame using the dictionary\n",
    "    null_df = pd.DataFrame(null_dict)\n",
    "\n",
    "    return null_df"
   ]
  },
  {
   "cell_type": "code",
   "execution_count": 71,
   "metadata": {},
   "outputs": [
    {
     "data": {
      "text/html": [
       "<div>\n",
       "<style scoped>\n",
       "    .dataframe tbody tr th:only-of-type {\n",
       "        vertical-align: middle;\n",
       "    }\n",
       "\n",
       "    .dataframe tbody tr th {\n",
       "        vertical-align: top;\n",
       "    }\n",
       "\n",
       "    .dataframe thead th {\n",
       "        text-align: right;\n",
       "    }\n",
       "</style>\n",
       "<table border=\"1\" class=\"dataframe\">\n",
       "  <thead>\n",
       "    <tr style=\"text-align: right;\">\n",
       "      <th></th>\n",
       "      <th>column</th>\n",
       "      <th>null_values</th>\n",
       "      <th>null_percentage</th>\n",
       "    </tr>\n",
       "  </thead>\n",
       "  <tbody>\n",
       "    <tr>\n",
       "      <th>0</th>\n",
       "      <td>person_age</td>\n",
       "      <td>0</td>\n",
       "      <td>0.00</td>\n",
       "    </tr>\n",
       "    <tr>\n",
       "      <th>1</th>\n",
       "      <td>person_income</td>\n",
       "      <td>0</td>\n",
       "      <td>0.00</td>\n",
       "    </tr>\n",
       "    <tr>\n",
       "      <th>2</th>\n",
       "      <td>person_home_ownership</td>\n",
       "      <td>0</td>\n",
       "      <td>0.00</td>\n",
       "    </tr>\n",
       "    <tr>\n",
       "      <th>3</th>\n",
       "      <td>person_emp_length</td>\n",
       "      <td>738</td>\n",
       "      <td>2.83</td>\n",
       "    </tr>\n",
       "    <tr>\n",
       "      <th>4</th>\n",
       "      <td>loan_intent</td>\n",
       "      <td>0</td>\n",
       "      <td>0.00</td>\n",
       "    </tr>\n",
       "    <tr>\n",
       "      <th>5</th>\n",
       "      <td>loan_grade</td>\n",
       "      <td>0</td>\n",
       "      <td>0.00</td>\n",
       "    </tr>\n",
       "    <tr>\n",
       "      <th>6</th>\n",
       "      <td>loan_amnt</td>\n",
       "      <td>0</td>\n",
       "      <td>0.00</td>\n",
       "    </tr>\n",
       "    <tr>\n",
       "      <th>7</th>\n",
       "      <td>loan_int_rate</td>\n",
       "      <td>2501</td>\n",
       "      <td>9.60</td>\n",
       "    </tr>\n",
       "    <tr>\n",
       "      <th>8</th>\n",
       "      <td>loan_percent_income</td>\n",
       "      <td>0</td>\n",
       "      <td>0.00</td>\n",
       "    </tr>\n",
       "    <tr>\n",
       "      <th>9</th>\n",
       "      <td>cb_person_default_on_file</td>\n",
       "      <td>0</td>\n",
       "      <td>0.00</td>\n",
       "    </tr>\n",
       "    <tr>\n",
       "      <th>10</th>\n",
       "      <td>cb_person_cred_hist_length</td>\n",
       "      <td>0</td>\n",
       "      <td>0.00</td>\n",
       "    </tr>\n",
       "  </tbody>\n",
       "</table>\n",
       "</div>"
      ],
      "text/plain": [
       "                        column  null_values  null_percentage\n",
       "0                   person_age            0             0.00\n",
       "1                person_income            0             0.00\n",
       "2        person_home_ownership            0             0.00\n",
       "3            person_emp_length          738             2.83\n",
       "4                  loan_intent            0             0.00\n",
       "5                   loan_grade            0             0.00\n",
       "6                    loan_amnt            0             0.00\n",
       "7                loan_int_rate         2501             9.60\n",
       "8          loan_percent_income            0             0.00\n",
       "9    cb_person_default_on_file            0             0.00\n",
       "10  cb_person_cred_hist_length            0             0.00"
      ]
     },
     "execution_count": 71,
     "metadata": {},
     "output_type": "execute_result"
    }
   ],
   "source": [
    "null_values(X_train)"
   ]
  },
  {
   "cell_type": "markdown",
   "metadata": {},
   "source": [
    "* *We may remove the **\"person_emp_length\"** due to variable null percentage is less than 5% from the total data length*\n",
    "* *the rest of **\"loan_int_rate\"** may be filled with statistical approach*"
   ]
  },
  {
   "cell_type": "code",
   "execution_count": 72,
   "metadata": {},
   "outputs": [],
   "source": [
    "X_train_ =['person_age','person_income','person_emp_length','loan_amnt',\n",
    "            'loan_int_rate','loan_percent_income','cb_person_cred_hist_length']"
   ]
  },
  {
   "cell_type": "code",
   "execution_count": 73,
   "metadata": {},
   "outputs": [
    {
     "data": {
      "image/png": "[encoded data removed]",
      "text/plain": [
       "<Figure size 500x500 with 1 Axes>"
      ]
     },
     "metadata": {},
     "output_type": "display_data"
    },
    {
     "data": {
      "image/png": "[encoded data removed]",
      "text/plain": [
       "<Figure size 500x500 with 1 Axes>"
      ]
     },
     "metadata": {},
     "output_type": "display_data"
    },
    {
     "data": {
      "image/png": "[encoded data removed]",
      "text/plain": [
       "<Figure size 500x500 with 1 Axes>"
      ]
     },
     "metadata": {},
     "output_type": "display_data"
    },
    {
     "data": {
      "image/png": "[encoded data removed]",
      "text/plain": [
       "<Figure size 500x500 with 1 Axes>"
      ]
     },
     "metadata": {},
     "output_type": "display_data"
    },
    {
     "data": {
      "image/png": "[encoded data removed]",
      "text/plain": [
       "<Figure size 500x500 with 1 Axes>"
      ]
     },
     "metadata": {},
     "output_type": "display_data"
    },
    {
     "data": {
      "image/png": "[encoded data removed]",
      "text/plain": [
       "<Figure size 500x500 with 1 Axes>"
      ]
     },
     "metadata": {},
     "output_type": "display_data"
    },
    {
     "data": {
      "image/png": "[encoded data removed]",
      "text/plain": [
       "<Figure size 500x500 with 1 Axes>"
      ]
     },
     "metadata": {},
     "output_type": "display_data"
    }
   ],
   "source": [
    "for col in X_train_:\n",
    "  sns.displot(X_train[col], bins = 20, kde = True)\n",
    "  plt.title(f'Distribution of {col}')\n",
    "  plt.xlabel(col)\n",
    "  plt.ylabel('Frequency')\n",
    "  plt.show()"
   ]
  },
  {
   "cell_type": "markdown",
   "metadata": {},
   "source": [
    "2 variables contain null values (person_emp_length and loan_int_rate) both have tendencies of right skewed, therefore statistical imputation would be probable such as mean or median imputation "
   ]
  },
  {
   "cell_type": "markdown",
   "metadata": {},
   "source": []
  },
  {
   "cell_type": "code",
   "execution_count": 74,
   "metadata": {},
   "outputs": [
    {
     "data": {
      "text/plain": [
       "<function matplotlib.pyplot.show(close=None, block=None)>"
      ]
     },
     "execution_count": 74,
     "metadata": {},
     "output_type": "execute_result"
    },
    {
     "data": {
      "image/png": "[encoded data removed]",
      "text/plain": [
       "<Figure size 640x480 with 1 Axes>"
      ]
     },
     "metadata": {},
     "output_type": "display_data"
    }
   ],
   "source": [
    "sns.countplot(data = pd.DataFrame(y_train) , x = 'loan_status', hue = 'loan_status')\n",
    "plt.title('Distribution of Loan Status')\n",
    "plt.xlabel('Loan Status')\n",
    "plt.ylabel('Count')\n",
    "plt.show"
   ]
  },
  {
   "cell_type": "markdown",
   "metadata": {},
   "source": [
    "The target variable is imbalance which will cause machine learning models may become biased in their predictions as a result, favoring the majority class. Techniques like oversampling the minority class or undersampling the majority class are used in resampling to compensate this. "
   ]
  },
  {
   "cell_type": "markdown",
   "metadata": {},
   "source": [
    "Data Preprocessing"
   ]
  },
  {
   "cell_type": "code",
   "execution_count": 75,
   "metadata": {},
   "outputs": [],
   "source": [
    "from copy import deepcopy\n",
    "\n",
    "from sklearn.preprocessing import OneHotEncoder"
   ]
  },
  {
   "cell_type": "code",
   "execution_count": 76,
   "metadata": {},
   "outputs": [],
   "source": [
    "PATH = '../data/processed/'\n",
    "\n",
    "X_train = utils.deserialize_data(PATH +'X_train.pkl')\n",
    "X_test = utils.deserialize_data(PATH +'X_test.pkl')\n",
    "X_valid = utils.deserialize_data(PATH +'X_valid.pkl')\n",
    "\n",
    "y_train = utils.deserialize_data(PATH +'y_train.pkl')\n",
    "y_test = utils.deserialize_data(PATH +'y_test.pkl')\n",
    "y_valid = utils.deserialize_data(PATH +'y_valid.pkl')"
   ]
  },
  {
   "cell_type": "code",
   "execution_count": 77,
   "metadata": {},
   "outputs": [
    {
     "name": "stdout",
     "output_type": "stream",
     "text": [
      "<class 'pandas.core.frame.DataFrame'>\n",
      "Index: 26064 entries, 15884 to 17068\n",
      "Data columns (total 11 columns):\n",
      " #   Column                      Non-Null Count  Dtype  \n",
      "---  ------                      --------------  -----  \n",
      " 0   person_age                  26064 non-null  int64  \n",
      " 1   person_income               26064 non-null  int64  \n",
      " 2   person_home_ownership       26064 non-null  object \n",
      " 3   person_emp_length           25326 non-null  float64\n",
      " 4   loan_intent                 26064 non-null  object \n",
      " 5   loan_grade                  26064 non-null  object \n",
      " 6   loan_amnt                   26064 non-null  int64  \n",
      " 7   loan_int_rate               23563 non-null  float64\n",
      " 8   loan_percent_income         26064 non-null  float64\n",
      " 9   cb_person_default_on_file   26064 non-null  object \n",
      " 10  cb_person_cred_hist_length  26064 non-null  int64  \n",
      "dtypes: float64(3), int64(4), object(4)\n",
      "memory usage: 2.4+ MB\n"
     ]
    }
   ],
   "source": [
    "X_train.info()"
   ]
  },
  {
   "cell_type": "code",
   "execution_count": 78,
   "metadata": {},
   "outputs": [
    {
     "name": "stdout",
     "output_type": "stream",
     "text": [
      "<class 'pandas.core.series.Series'>\n",
      "Index: 26064 entries, 15884 to 17068\n",
      "Series name: loan_status\n",
      "Non-Null Count  Dtype\n",
      "--------------  -----\n",
      "26064 non-null  int64\n",
      "dtypes: int64(1)\n",
      "memory usage: 407.2 KB\n"
     ]
    }
   ],
   "source": [
    "y_train.info()"
   ]
  },
  {
   "cell_type": "code",
   "execution_count": 79,
   "metadata": {},
   "outputs": [],
   "source": [
    "def drop_duplicate_data(X, y):\n",
    "\n",
    "    \"\"\"\n",
    "    Parameter :\n",
    "    X = Data train (dataframe format)\n",
    "    y = subset target variable (series format)\n",
    "\n",
    "    Input parameter validation is to assure correct input\n",
    "    check duplicated rows and drop duplicate, keeping the first record , store as X_clean\n",
    "    match the y subset data index with X_clean index\n",
    "    \n",
    "    \"\"\"\n",
    "\n",
    "    # Validation checks\n",
    "    if not isinstance(X, pd.DataFrame):\n",
    "        raise ValueError(\"Error: Parameter X must be in DataFrame format.\")\n",
    "    if not isinstance(y, pd.Series):\n",
    "        raise ValueError(\"Error: Parameter y must be in series format.\")\n",
    "    print(\"Fungsi drop_duplicate_data: parameter telah divalidasi.\")\n",
    "\n",
    "    # Copy the parameters\n",
    "    X = X.copy()\n",
    "    y = y.copy()\n",
    "\n",
    "    # Print the shape before dropping duplicates\n",
    "    print(f\"Fungsi drop_duplicate_data: shape dataset sebelum dropping duplicate adalah {X.shape}.\")\n",
    "\n",
    "    X_duplicate = X.duplicated(keep='first')\n",
    "    X_duplicate = X[X_duplicate]\n",
    "    print(f\"Fungsi drop_duplicate_data: shape dari data yang duplicate adalah {X_duplicate.shape}.\")\n",
    "\n",
    "    # Calculate the shape after dropping duplicates\n",
    "    X_clean = (X.shape[0] - X_duplicate.shape[0], X.shape[1])\n",
    "    print(f\"Fungsi drop_duplicate_data: shape dataset setelah drop duplicate seharusnya adalah {X_clean}.\")\n",
    "\n",
    "    # Drop duplicates in X\n",
    "    X.drop_duplicates(keep = 'first', inplace=True)\n",
    "\n",
    "    # Select corresponding y values using the updated index from X\n",
    "    y = y.loc[X.index]\n",
    "\n",
    "    # Print the shape after dropping duplicates\n",
    "    print(f\"Fungsi drop_duplicate_data: shape dataset setelah dropping duplicate adalah {X.shape}.\")\n",
    "\n",
    "    return X, y"
   ]
  },
  {
   "cell_type": "code",
   "execution_count": 80,
   "metadata": {},
   "outputs": [
    {
     "name": "stdout",
     "output_type": "stream",
     "text": [
      "Fungsi drop_duplicate_data: parameter telah divalidasi.\n",
      "Fungsi drop_duplicate_data: shape dataset sebelum dropping duplicate adalah (26064, 11).\n",
      "Fungsi drop_duplicate_data: shape dari data yang duplicate adalah (96, 11).\n",
      "Fungsi drop_duplicate_data: shape dataset setelah drop duplicate seharusnya adalah (25968, 11).\n",
      "Fungsi drop_duplicate_data: shape dataset setelah dropping duplicate adalah (25968, 11).\n"
     ]
    }
   ],
   "source": [
    "X_train, y_train= drop_duplicate_data(X_train, y_train)"
   ]
  },
  {
   "cell_type": "code",
   "execution_count": 81,
   "metadata": {},
   "outputs": [],
   "source": [
    "def median_imputation(data, subset_data, fit):\n",
    "    \"\"\"\n",
    "    This function performs median imputation on a given DataFrame.\n",
    "    \n",
    "    Parameters:\n",
    "    data (pd.DataFrame): DataFrame to perform imputation on.\n",
    "    subset_data (list or dict): If fit is True, a list of column names to calculate medians for. If fit is False, \n",
    "                                a dictionary containing column names as keys and their respective median values.\n",
    "    fit (bool): If True, calculates and returns median values of specified columns. If False, performs imputation \n",
    "                using provided medians.\n",
    "\n",
    "    Returns:\n",
    "    dict or pd.DataFrame: Returns a dictionary of median values if fit=True. Returns the imputed DataFrame if fit=False.\n",
    "\n",
    "    Raises:\n",
    "    ValueError: If data is not a DataFrame.\n",
    "    RuntimeError: If fit is True and subset_data is not a list, or if fit is False and subset_data is not a dictionary.\n",
    "    \"\"\"\n",
    "    \n",
    "    # Function body starts here\n",
    "    if not isinstance(data, pd.DataFrame):\n",
    "        raise ValueError(\"Fungsi median_imputation: parameter data haruslah bertipe DataFrame!\")\n",
    "    if fit == True:\n",
    "        if not isinstance(subset_data, list):\n",
    "            raise RuntimeError(\"Fungsi median_imputation: untuk nilai parameter fit = True, subset_data harus bertipe list dan .\\n berisi daftar nama kolom yang ingin dicari nilai mediannya guna menjadi data imputasi pada kolom tersebut.\")\n",
    "    elif fit == False:\n",
    "        if not isinstance(subset_data, dict):\n",
    "            raise RuntimeError(\"Fungsi median_imputation: untuk nilai parameter fit = False, subset_data harus bertipe dict dan .\\n berisi key yang merupakan nama kolom beserta value yang merupakan nilai median dari kolom tersebut.\")\n",
    "    else:\n",
    "        raise RuntimeError(\"Fungsi median_imputation: parameter fit haruslah bertipe boolean, bernilai True atau False.\")\n",
    "\n",
    "    print(\"Fungsi median_imputation: parameter telah divalidasi.\")\n",
    "\n",
    "    # Copy the parameters\n",
    "    data = data.copy()\n",
    "    subset_data = deepcopy(subset_data)\n",
    "\n",
    "    # Perform fitting or imputation based on fit parameter\n",
    "    if fit == True:\n",
    "        imputation_data = {}\n",
    "        for subset in subset_data:\n",
    "            median_value = data[subset].median()\n",
    "            imputation_data[subset] = median_value\n",
    "        print(f\"Fungsi median_imputation: proses fitting telah selesai, berikut hasilnya {imputation_data}.\")\n",
    "        return imputation_data\n",
    "\n",
    "    elif fit == False:\n",
    "        # Print NA counts before imputation\n",
    "        print(\"Fungsi median_imputation: informasi count na sebelum dilakukan imputasi:\")\n",
    "        print(data.isna().sum())\n",
    "        print(\"\")\n",
    "\n",
    "        # Perform imputation\n",
    "        data.fillna(subset_data, inplace=True)\n",
    "\n",
    "        # Print NA counts after imputation\n",
    "        print(\"Fungsi median_imputation: informasi count nan setelah dilakukan imputasi:\")\n",
    "        print(data.isna().sum())\n",
    "        print(\"\")\n",
    "\n",
    "        return data"
   ]
  },
  {
   "cell_type": "code",
   "execution_count": 82,
   "metadata": {},
   "outputs": [
    {
     "name": "stdout",
     "output_type": "stream",
     "text": [
      "Fungsi median_imputation: parameter telah divalidasi.\n",
      "Fungsi median_imputation: proses fitting telah selesai, berikut hasilnya {'loan_int_rate': np.float64(10.99), 'person_emp_length': np.float64(4.0)}.\n",
      "Fungsi median_imputation: parameter telah divalidasi.\n",
      "Fungsi median_imputation: informasi count na sebelum dilakukan imputasi:\n",
      "person_age                       0\n",
      "person_income                    0\n",
      "person_home_ownership            0\n",
      "person_emp_length              734\n",
      "loan_intent                      0\n",
      "loan_grade                       0\n",
      "loan_amnt                        0\n",
      "loan_int_rate                 2491\n",
      "loan_percent_income              0\n",
      "cb_person_default_on_file        0\n",
      "cb_person_cred_hist_length       0\n",
      "dtype: int64\n",
      "\n",
      "Fungsi median_imputation: informasi count nan setelah dilakukan imputasi:\n",
      "person_age                    0\n",
      "person_income                 0\n",
      "person_home_ownership         0\n",
      "person_emp_length             0\n",
      "loan_intent                   0\n",
      "loan_grade                    0\n",
      "loan_amnt                     0\n",
      "loan_int_rate                 0\n",
      "loan_percent_income           0\n",
      "cb_person_default_on_file     0\n",
      "cb_person_cred_hist_length    0\n",
      "dtype: int64\n",
      "\n",
      "Fungsi median_imputation: parameter telah divalidasi.\n",
      "Fungsi median_imputation: informasi count na sebelum dilakukan imputasi:\n",
      "person_age                      0\n",
      "person_income                   0\n",
      "person_home_ownership           0\n",
      "person_emp_length              77\n",
      "loan_intent                     0\n",
      "loan_grade                      0\n",
      "loan_amnt                       0\n",
      "loan_int_rate                 303\n",
      "loan_percent_income             0\n",
      "cb_person_default_on_file       0\n",
      "cb_person_cred_hist_length      0\n",
      "dtype: int64\n",
      "\n",
      "Fungsi median_imputation: informasi count nan setelah dilakukan imputasi:\n",
      "person_age                    0\n",
      "person_income                 0\n",
      "person_home_ownership         0\n",
      "person_emp_length             0\n",
      "loan_intent                   0\n",
      "loan_grade                    0\n",
      "loan_amnt                     0\n",
      "loan_int_rate                 0\n",
      "loan_percent_income           0\n",
      "cb_person_default_on_file     0\n",
      "cb_person_cred_hist_length    0\n",
      "dtype: int64\n",
      "\n",
      "Fungsi median_imputation: parameter telah divalidasi.\n",
      "Fungsi median_imputation: informasi count na sebelum dilakukan imputasi:\n",
      "person_age                      0\n",
      "person_income                   0\n",
      "person_home_ownership           0\n",
      "person_emp_length              80\n",
      "loan_intent                     0\n",
      "loan_grade                      0\n",
      "loan_amnt                       0\n",
      "loan_int_rate                 312\n",
      "loan_percent_income             0\n",
      "cb_person_default_on_file       0\n",
      "cb_person_cred_hist_length      0\n",
      "dtype: int64\n",
      "\n",
      "Fungsi median_imputation: informasi count nan setelah dilakukan imputasi:\n",
      "person_age                    0\n",
      "person_income                 0\n",
      "person_home_ownership         0\n",
      "person_emp_length             0\n",
      "loan_intent                   0\n",
      "loan_grade                    0\n",
      "loan_amnt                     0\n",
      "loan_int_rate                 0\n",
      "loan_percent_income           0\n",
      "cb_person_default_on_file     0\n",
      "cb_person_cred_hist_length    0\n",
      "dtype: int64\n",
      "\n"
     ]
    }
   ],
   "source": [
    "subset_data = ['loan_int_rate','person_emp_length']\n",
    "\n",
    "subset_data = median_imputation(X_train, subset_data, True)\n",
    "X_train = median_imputation(X_train, subset_data, False)\n",
    "X_test = median_imputation(X_test, subset_data, False)\n",
    "X_valid = median_imputation(X_valid, subset_data, False)"
   ]
  },
  {
   "cell_type": "code",
   "execution_count": null,
   "metadata": {},
   "outputs": [],
   "source": []
  },
  {
   "cell_type": "code",
   "execution_count": 83,
   "metadata": {},
   "outputs": [],
   "source": [
    "def create_onehot_encoder(categories, path):\n",
    "  \"\"\"\n",
    "  This function is to encode the non-numerical data into numerical data.\n",
    "  categories : fill with category of which respective encoder will be made (list of 1 dimension)\n",
    "  path : storage path where the enceoder will be saved (string)\n",
    "\n",
    "  fitting the OneHotEncoder to categories array\n",
    "\n",
    "  \"\"\"\n",
    "\n",
    "  if not isinstance(categories, list):\n",
    "    raise RuntimeError(\"Fungsi create_onehot_encoder: parameter categories haruslah bertipe list, berisi kategori yang akan dibuat encodernya.\")\n",
    "\n",
    "  if not isinstance(path, str):\n",
    "    raise RuntimeError(\"Fungsi create_onehot_encoder: parameter path haruslah bertipe string, berisi lokasi pada disk komputer dimana encoder akan disimpan.\")\n",
    "\n",
    "  ohe = OneHotEncoder(handle_unknown='ignore')\n",
    "\n",
    " # Fit the encoder with the provided categories\n",
    "  ohe.fit(np.array(categories).reshape(-1, 1))\n",
    "\n",
    "  # Serialize the fitted encoder for future use\n",
    "  utils.serialize_data(ohe, path)\n",
    "\n",
    "  # Print learned categories\n",
    "  print(f\"Kategori yang telah dipelajari adalah {ohe.categories_[0].tolist()}\")\n",
    "\n",
    "  # Return the encoder instance\n",
    "  return ohe\n"
   ]
  },
  {
   "cell_type": "code",
   "execution_count": 84,
   "metadata": {},
   "outputs": [
    {
     "name": "stdout",
     "output_type": "stream",
     "text": [
      "Kategori yang telah dipelajari adalah ['MORTGAGE', 'OTHER', 'OWN', 'RENT']\n",
      "Kategori yang telah dipelajari adalah ['DEBTCONSOLIDATION', 'EDUCATION', 'HOMEIMPROVEMENT', 'MEDICAL', 'PERSONAL', 'VENTURE']\n",
      "Kategori yang telah dipelajari adalah ['A', 'B', 'C', 'D', 'E', 'F', 'G']\n",
      "Kategori yang telah dipelajari adalah ['N', 'Y']\n"
     ]
    }
   ],
   "source": [
    "path = '../models/'\n",
    "\n",
    "# Constants representing categories\n",
    "person_home_ownership = ['RENT', 'OWN', 'MORTGAGE', 'OTHER']\n",
    "loan_intent = ['PERSONAL', 'EDUCATION', 'MEDICAL', 'VENTURE', 'HOMEIMPROVEMENT', 'DEBTCONSOLIDATION']\n",
    "loan_grade = ['A', 'B', 'C', 'D', 'E', 'F', 'G']\n",
    "cb_person_default_on_file = ['Y', 'N']\n",
    "\n",
    "# Creating encoders and saving them\n",
    "ohe_home_ownership = create_onehot_encoder(person_home_ownership, path +'ohe_home_ownership.pkl')\n",
    "ohe_loan_intent = create_onehot_encoder(loan_intent, path + 'ohe_loan_intent.pkl')\n",
    "ohe_loan_grade = create_onehot_encoder(loan_grade, path + 'ohe_loan_grade.pkl')\n",
    "ohe_default_on_file = create_onehot_encoder(cb_person_default_on_file, path + 'ohe_default_on_file.pkl')"
   ]
  },
  {
   "cell_type": "code",
   "execution_count": 85,
   "metadata": {},
   "outputs": [],
   "source": [
    "def ohe_transform(dataset, subset_data, prefix, ohe):\n",
    "\n",
    "    \"\"\"\n",
    "    This function transforms string variable to encoded numerical binary (1,0) \n",
    "    \n",
    "    Parameter :\n",
    "      Data  = Dataframe format\n",
    "      subset = Column name in Data Parameter (string type)\n",
    "      prefix =  (string type)\n",
    "      ohe = OneHotEncoding transform\n",
    "    \"\"\"\n",
    "\n",
    "    if not isinstance(dataset, pd.DataFrame):\n",
    "        raise RuntimeError(\"Fungsi ohe_transform: parameter dataset harus bertipe DataFrame!\")\n",
    "\n",
    "    if not isinstance(ohe, OneHotEncoder):\n",
    "        raise RuntimeError(\"Fungsi ohe_transform: parameter ohe harus bertipe OneHotEncoder!\")\n",
    "\n",
    "    if not isinstance(prefix, str):\n",
    "        raise RuntimeError(\"Fungsi ohe_transform: parameter prefix harus bertipe str!\")\n",
    "\n",
    "    if not isinstance(subset_data, str):\n",
    "        raise RuntimeError(\"Fungsi ohe_transform: parameter subset harus bertipe str!\")\n",
    "\n",
    "    dataset = dataset.copy()\n",
    "\n",
    "    print(f\"Fungsi ohe_transform: daftar nama kolom sebelum dilakukan pengkodean adalah {list(dataset.columns)}.\")\n",
    "\n",
    "    col_names = [f\"{prefix}_{col_name}\" for col_name in ohe.categories_[0].tolist()]\n",
    "\n",
    "    encoded = pd.DataFrame(\n",
    "        ohe.transform(dataset[[subset_data]].values).toarray(),\n",
    "        columns=col_names,\n",
    "        index=dataset.index\n",
    "    )\n",
    "    \n",
    "    dataset = pd.concat([dataset, encoded], axis=1)\n",
    "    dataset = dataset.drop(columns=[subset_data])\n",
    "\n",
    "    print(f\"Fungsi ohe_transform: daftar nama kolom setelah dilakukan pengkodean adalah {list(dataset.columns)}.\")\n",
    "\n",
    "    return dataset"
   ]
  },
  {
   "cell_type": "code",
   "execution_count": 86,
   "metadata": {},
   "outputs": [
    {
     "name": "stdout",
     "output_type": "stream",
     "text": [
      "Fungsi ohe_transform: daftar nama kolom sebelum dilakukan pengkodean adalah ['person_age', 'person_income', 'person_home_ownership', 'person_emp_length', 'loan_intent', 'loan_grade', 'loan_amnt', 'loan_int_rate', 'loan_percent_income', 'cb_person_default_on_file', 'cb_person_cred_hist_length'].\n",
      "Fungsi ohe_transform: daftar nama kolom setelah dilakukan pengkodean adalah ['person_age', 'person_income', 'person_emp_length', 'loan_intent', 'loan_grade', 'loan_amnt', 'loan_int_rate', 'loan_percent_income', 'cb_person_default_on_file', 'cb_person_cred_hist_length', 'home_ownership_MORTGAGE', 'home_ownership_OTHER', 'home_ownership_OWN', 'home_ownership_RENT'].\n",
      "Fungsi ohe_transform: daftar nama kolom sebelum dilakukan pengkodean adalah ['person_age', 'person_income', 'person_emp_length', 'loan_intent', 'loan_grade', 'loan_amnt', 'loan_int_rate', 'loan_percent_income', 'cb_person_default_on_file', 'cb_person_cred_hist_length', 'home_ownership_MORTGAGE', 'home_ownership_OTHER', 'home_ownership_OWN', 'home_ownership_RENT'].\n",
      "Fungsi ohe_transform: daftar nama kolom setelah dilakukan pengkodean adalah ['person_age', 'person_income', 'person_emp_length', 'loan_grade', 'loan_amnt', 'loan_int_rate', 'loan_percent_income', 'cb_person_default_on_file', 'cb_person_cred_hist_length', 'home_ownership_MORTGAGE', 'home_ownership_OTHER', 'home_ownership_OWN', 'home_ownership_RENT', 'loan_intent_DEBTCONSOLIDATION', 'loan_intent_EDUCATION', 'loan_intent_HOMEIMPROVEMENT', 'loan_intent_MEDICAL', 'loan_intent_PERSONAL', 'loan_intent_VENTURE'].\n",
      "Fungsi ohe_transform: daftar nama kolom sebelum dilakukan pengkodean adalah ['person_age', 'person_income', 'person_emp_length', 'loan_grade', 'loan_amnt', 'loan_int_rate', 'loan_percent_income', 'cb_person_default_on_file', 'cb_person_cred_hist_length', 'home_ownership_MORTGAGE', 'home_ownership_OTHER', 'home_ownership_OWN', 'home_ownership_RENT', 'loan_intent_DEBTCONSOLIDATION', 'loan_intent_EDUCATION', 'loan_intent_HOMEIMPROVEMENT', 'loan_intent_MEDICAL', 'loan_intent_PERSONAL', 'loan_intent_VENTURE'].\n",
      "Fungsi ohe_transform: daftar nama kolom setelah dilakukan pengkodean adalah ['person_age', 'person_income', 'person_emp_length', 'loan_amnt', 'loan_int_rate', 'loan_percent_income', 'cb_person_default_on_file', 'cb_person_cred_hist_length', 'home_ownership_MORTGAGE', 'home_ownership_OTHER', 'home_ownership_OWN', 'home_ownership_RENT', 'loan_intent_DEBTCONSOLIDATION', 'loan_intent_EDUCATION', 'loan_intent_HOMEIMPROVEMENT', 'loan_intent_MEDICAL', 'loan_intent_PERSONAL', 'loan_intent_VENTURE', 'loan_grade_A', 'loan_grade_B', 'loan_grade_C', 'loan_grade_D', 'loan_grade_E', 'loan_grade_F', 'loan_grade_G'].\n",
      "Fungsi ohe_transform: daftar nama kolom sebelum dilakukan pengkodean adalah ['person_age', 'person_income', 'person_emp_length', 'loan_amnt', 'loan_int_rate', 'loan_percent_income', 'cb_person_default_on_file', 'cb_person_cred_hist_length', 'home_ownership_MORTGAGE', 'home_ownership_OTHER', 'home_ownership_OWN', 'home_ownership_RENT', 'loan_intent_DEBTCONSOLIDATION', 'loan_intent_EDUCATION', 'loan_intent_HOMEIMPROVEMENT', 'loan_intent_MEDICAL', 'loan_intent_PERSONAL', 'loan_intent_VENTURE', 'loan_grade_A', 'loan_grade_B', 'loan_grade_C', 'loan_grade_D', 'loan_grade_E', 'loan_grade_F', 'loan_grade_G'].\n",
      "Fungsi ohe_transform: daftar nama kolom setelah dilakukan pengkodean adalah ['person_age', 'person_income', 'person_emp_length', 'loan_amnt', 'loan_int_rate', 'loan_percent_income', 'cb_person_cred_hist_length', 'home_ownership_MORTGAGE', 'home_ownership_OTHER', 'home_ownership_OWN', 'home_ownership_RENT', 'loan_intent_DEBTCONSOLIDATION', 'loan_intent_EDUCATION', 'loan_intent_HOMEIMPROVEMENT', 'loan_intent_MEDICAL', 'loan_intent_PERSONAL', 'loan_intent_VENTURE', 'loan_grade_A', 'loan_grade_B', 'loan_grade_C', 'loan_grade_D', 'loan_grade_E', 'loan_grade_F', 'loan_grade_G', 'default_on_file_N', 'default_on_file_Y'].\n"
     ]
    }
   ],
   "source": [
    "X_train = ohe_transform(X_train, 'person_home_ownership','home_ownership', ohe_home_ownership)\n",
    "X_train = ohe_transform(X_train, 'loan_intent','loan_intent', ohe_loan_intent)\n",
    "X_train = ohe_transform(X_train, 'loan_grade','loan_grade', ohe_loan_grade)\n",
    "X_train = ohe_transform(X_train, 'cb_person_default_on_file','default_on_file', ohe_default_on_file)"
   ]
  },
  {
   "cell_type": "code",
   "execution_count": 87,
   "metadata": {},
   "outputs": [
    {
     "name": "stdout",
     "output_type": "stream",
     "text": [
      "Fungsi ohe_transform: daftar nama kolom sebelum dilakukan pengkodean adalah ['person_age', 'person_income', 'person_home_ownership', 'person_emp_length', 'loan_intent', 'loan_grade', 'loan_amnt', 'loan_int_rate', 'loan_percent_income', 'cb_person_default_on_file', 'cb_person_cred_hist_length'].\n",
      "Fungsi ohe_transform: daftar nama kolom setelah dilakukan pengkodean adalah ['person_age', 'person_income', 'person_emp_length', 'loan_intent', 'loan_grade', 'loan_amnt', 'loan_int_rate', 'loan_percent_income', 'cb_person_default_on_file', 'cb_person_cred_hist_length', 'home_ownership_MORTGAGE', 'home_ownership_OTHER', 'home_ownership_OWN', 'home_ownership_RENT'].\n",
      "Fungsi ohe_transform: daftar nama kolom sebelum dilakukan pengkodean adalah ['person_age', 'person_income', 'person_emp_length', 'loan_intent', 'loan_grade', 'loan_amnt', 'loan_int_rate', 'loan_percent_income', 'cb_person_default_on_file', 'cb_person_cred_hist_length', 'home_ownership_MORTGAGE', 'home_ownership_OTHER', 'home_ownership_OWN', 'home_ownership_RENT'].\n",
      "Fungsi ohe_transform: daftar nama kolom setelah dilakukan pengkodean adalah ['person_age', 'person_income', 'person_emp_length', 'loan_grade', 'loan_amnt', 'loan_int_rate', 'loan_percent_income', 'cb_person_default_on_file', 'cb_person_cred_hist_length', 'home_ownership_MORTGAGE', 'home_ownership_OTHER', 'home_ownership_OWN', 'home_ownership_RENT', 'loan_intent_DEBTCONSOLIDATION', 'loan_intent_EDUCATION', 'loan_intent_HOMEIMPROVEMENT', 'loan_intent_MEDICAL', 'loan_intent_PERSONAL', 'loan_intent_VENTURE'].\n",
      "Fungsi ohe_transform: daftar nama kolom sebelum dilakukan pengkodean adalah ['person_age', 'person_income', 'person_emp_length', 'loan_grade', 'loan_amnt', 'loan_int_rate', 'loan_percent_income', 'cb_person_default_on_file', 'cb_person_cred_hist_length', 'home_ownership_MORTGAGE', 'home_ownership_OTHER', 'home_ownership_OWN', 'home_ownership_RENT', 'loan_intent_DEBTCONSOLIDATION', 'loan_intent_EDUCATION', 'loan_intent_HOMEIMPROVEMENT', 'loan_intent_MEDICAL', 'loan_intent_PERSONAL', 'loan_intent_VENTURE'].\n",
      "Fungsi ohe_transform: daftar nama kolom setelah dilakukan pengkodean adalah ['person_age', 'person_income', 'person_emp_length', 'loan_amnt', 'loan_int_rate', 'loan_percent_income', 'cb_person_default_on_file', 'cb_person_cred_hist_length', 'home_ownership_MORTGAGE', 'home_ownership_OTHER', 'home_ownership_OWN', 'home_ownership_RENT', 'loan_intent_DEBTCONSOLIDATION', 'loan_intent_EDUCATION', 'loan_intent_HOMEIMPROVEMENT', 'loan_intent_MEDICAL', 'loan_intent_PERSONAL', 'loan_intent_VENTURE', 'loan_grade_A', 'loan_grade_B', 'loan_grade_C', 'loan_grade_D', 'loan_grade_E', 'loan_grade_F', 'loan_grade_G'].\n",
      "Fungsi ohe_transform: daftar nama kolom sebelum dilakukan pengkodean adalah ['person_age', 'person_income', 'person_emp_length', 'loan_amnt', 'loan_int_rate', 'loan_percent_income', 'cb_person_default_on_file', 'cb_person_cred_hist_length', 'home_ownership_MORTGAGE', 'home_ownership_OTHER', 'home_ownership_OWN', 'home_ownership_RENT', 'loan_intent_DEBTCONSOLIDATION', 'loan_intent_EDUCATION', 'loan_intent_HOMEIMPROVEMENT', 'loan_intent_MEDICAL', 'loan_intent_PERSONAL', 'loan_intent_VENTURE', 'loan_grade_A', 'loan_grade_B', 'loan_grade_C', 'loan_grade_D', 'loan_grade_E', 'loan_grade_F', 'loan_grade_G'].\n",
      "Fungsi ohe_transform: daftar nama kolom setelah dilakukan pengkodean adalah ['person_age', 'person_income', 'person_emp_length', 'loan_amnt', 'loan_int_rate', 'loan_percent_income', 'cb_person_cred_hist_length', 'home_ownership_MORTGAGE', 'home_ownership_OTHER', 'home_ownership_OWN', 'home_ownership_RENT', 'loan_intent_DEBTCONSOLIDATION', 'loan_intent_EDUCATION', 'loan_intent_HOMEIMPROVEMENT', 'loan_intent_MEDICAL', 'loan_intent_PERSONAL', 'loan_intent_VENTURE', 'loan_grade_A', 'loan_grade_B', 'loan_grade_C', 'loan_grade_D', 'loan_grade_E', 'loan_grade_F', 'loan_grade_G', 'default_on_file_N', 'default_on_file_Y'].\n"
     ]
    }
   ],
   "source": [
    "X_valid = ohe_transform(X_valid, 'person_home_ownership','home_ownership', ohe_home_ownership)\n",
    "X_valid = ohe_transform(X_valid, 'loan_intent','loan_intent', ohe_loan_intent)\n",
    "X_valid = ohe_transform(X_valid, 'loan_grade','loan_grade', ohe_loan_grade)\n",
    "X_valid = ohe_transform(X_valid, 'cb_person_default_on_file','default_on_file', ohe_default_on_file)"
   ]
  },
  {
   "cell_type": "code",
   "execution_count": 88,
   "metadata": {},
   "outputs": [
    {
     "name": "stdout",
     "output_type": "stream",
     "text": [
      "Fungsi ohe_transform: daftar nama kolom sebelum dilakukan pengkodean adalah ['person_age', 'person_income', 'person_home_ownership', 'person_emp_length', 'loan_intent', 'loan_grade', 'loan_amnt', 'loan_int_rate', 'loan_percent_income', 'cb_person_default_on_file', 'cb_person_cred_hist_length'].\n",
      "Fungsi ohe_transform: daftar nama kolom setelah dilakukan pengkodean adalah ['person_age', 'person_income', 'person_emp_length', 'loan_intent', 'loan_grade', 'loan_amnt', 'loan_int_rate', 'loan_percent_income', 'cb_person_default_on_file', 'cb_person_cred_hist_length', 'home_ownership_MORTGAGE', 'home_ownership_OTHER', 'home_ownership_OWN', 'home_ownership_RENT'].\n",
      "Fungsi ohe_transform: daftar nama kolom sebelum dilakukan pengkodean adalah ['person_age', 'person_income', 'person_emp_length', 'loan_intent', 'loan_grade', 'loan_amnt', 'loan_int_rate', 'loan_percent_income', 'cb_person_default_on_file', 'cb_person_cred_hist_length', 'home_ownership_MORTGAGE', 'home_ownership_OTHER', 'home_ownership_OWN', 'home_ownership_RENT'].\n",
      "Fungsi ohe_transform: daftar nama kolom setelah dilakukan pengkodean adalah ['person_age', 'person_income', 'person_emp_length', 'loan_grade', 'loan_amnt', 'loan_int_rate', 'loan_percent_income', 'cb_person_default_on_file', 'cb_person_cred_hist_length', 'home_ownership_MORTGAGE', 'home_ownership_OTHER', 'home_ownership_OWN', 'home_ownership_RENT', 'loan_intent_DEBTCONSOLIDATION', 'loan_intent_EDUCATION', 'loan_intent_HOMEIMPROVEMENT', 'loan_intent_MEDICAL', 'loan_intent_PERSONAL', 'loan_intent_VENTURE'].\n",
      "Fungsi ohe_transform: daftar nama kolom sebelum dilakukan pengkodean adalah ['person_age', 'person_income', 'person_emp_length', 'loan_grade', 'loan_amnt', 'loan_int_rate', 'loan_percent_income', 'cb_person_default_on_file', 'cb_person_cred_hist_length', 'home_ownership_MORTGAGE', 'home_ownership_OTHER', 'home_ownership_OWN', 'home_ownership_RENT', 'loan_intent_DEBTCONSOLIDATION', 'loan_intent_EDUCATION', 'loan_intent_HOMEIMPROVEMENT', 'loan_intent_MEDICAL', 'loan_intent_PERSONAL', 'loan_intent_VENTURE'].\n",
      "Fungsi ohe_transform: daftar nama kolom setelah dilakukan pengkodean adalah ['person_age', 'person_income', 'person_emp_length', 'loan_amnt', 'loan_int_rate', 'loan_percent_income', 'cb_person_default_on_file', 'cb_person_cred_hist_length', 'home_ownership_MORTGAGE', 'home_ownership_OTHER', 'home_ownership_OWN', 'home_ownership_RENT', 'loan_intent_DEBTCONSOLIDATION', 'loan_intent_EDUCATION', 'loan_intent_HOMEIMPROVEMENT', 'loan_intent_MEDICAL', 'loan_intent_PERSONAL', 'loan_intent_VENTURE', 'loan_grade_A', 'loan_grade_B', 'loan_grade_C', 'loan_grade_D', 'loan_grade_E', 'loan_grade_F', 'loan_grade_G'].\n",
      "Fungsi ohe_transform: daftar nama kolom sebelum dilakukan pengkodean adalah ['person_age', 'person_income', 'person_emp_length', 'loan_amnt', 'loan_int_rate', 'loan_percent_income', 'cb_person_default_on_file', 'cb_person_cred_hist_length', 'home_ownership_MORTGAGE', 'home_ownership_OTHER', 'home_ownership_OWN', 'home_ownership_RENT', 'loan_intent_DEBTCONSOLIDATION', 'loan_intent_EDUCATION', 'loan_intent_HOMEIMPROVEMENT', 'loan_intent_MEDICAL', 'loan_intent_PERSONAL', 'loan_intent_VENTURE', 'loan_grade_A', 'loan_grade_B', 'loan_grade_C', 'loan_grade_D', 'loan_grade_E', 'loan_grade_F', 'loan_grade_G'].\n",
      "Fungsi ohe_transform: daftar nama kolom setelah dilakukan pengkodean adalah ['person_age', 'person_income', 'person_emp_length', 'loan_amnt', 'loan_int_rate', 'loan_percent_income', 'cb_person_cred_hist_length', 'home_ownership_MORTGAGE', 'home_ownership_OTHER', 'home_ownership_OWN', 'home_ownership_RENT', 'loan_intent_DEBTCONSOLIDATION', 'loan_intent_EDUCATION', 'loan_intent_HOMEIMPROVEMENT', 'loan_intent_MEDICAL', 'loan_intent_PERSONAL', 'loan_intent_VENTURE', 'loan_grade_A', 'loan_grade_B', 'loan_grade_C', 'loan_grade_D', 'loan_grade_E', 'loan_grade_F', 'loan_grade_G', 'default_on_file_N', 'default_on_file_Y'].\n"
     ]
    }
   ],
   "source": [
    "X_test = ohe_transform(X_test, 'person_home_ownership','home_ownership', ohe_home_ownership)\n",
    "X_test = ohe_transform(X_test, 'loan_intent','loan_intent', ohe_loan_intent)\n",
    "X_test = ohe_transform(X_test, 'loan_grade','loan_grade', ohe_loan_grade)\n",
    "X_test = ohe_transform(X_test, 'cb_person_default_on_file','default_on_file', ohe_default_on_file)"
   ]
  },
  {
   "cell_type": "code",
   "execution_count": 89,
   "metadata": {},
   "outputs": [],
   "source": [
    "directory = '../data/processed/'\n",
    "\n",
    "utils.serialize_data(X_train, directory +'X_train_prep.pkl')\n",
    "utils.serialize_data(X_valid, directory +'X_valid_prep.pkl')\n",
    "utils.serialize_data(X_test,  directory +'X_test_prep.pkl')"
   ]
  },
  {
   "cell_type": "code",
   "execution_count": 90,
   "metadata": {},
   "outputs": [],
   "source": [
    "directory = '../data/processed/'\n",
    "\n",
    "utils.serialize_data(y_train, directory +'y_train_prep.pkl')"
   ]
  },
  {
   "cell_type": "markdown",
   "metadata": {},
   "source": [
    "Feature Engineering"
   ]
  },
  {
   "cell_type": "code",
   "execution_count": 92,
   "metadata": {},
   "outputs": [],
   "source": [
    "from imblearn.over_sampling import RandomOverSampler"
   ]
  },
  {
   "cell_type": "code",
   "execution_count": 93,
   "metadata": {},
   "outputs": [],
   "source": [
    "ros = RandomOverSampler(sampling_strategy='minority')"
   ]
  },
  {
   "cell_type": "code",
   "execution_count": 94,
   "metadata": {},
   "outputs": [],
   "source": [
    "PATH = '../data/processed/'\n",
    "\n",
    "X_train_prep = utils.deserialize_data(PATH +'X_train_prep.pkl')\n",
    "y_train_prep = utils.deserialize_data(PATH +'y_train_prep.pkl')"
   ]
  },
  {
   "cell_type": "code",
   "execution_count": 95,
   "metadata": {},
   "outputs": [
    {
     "data": {
      "text/plain": [
       "<function matplotlib.pyplot.show(close=None, block=None)>"
      ]
     },
     "execution_count": 95,
     "metadata": {},
     "output_type": "execute_result"
    },
    {
     "data": {
      "image/png": "[encoded data removed]",
      "text/plain": [
       "<Figure size 640x480 with 1 Axes>"
      ]
     },
     "metadata": {},
     "output_type": "display_data"
    }
   ],
   "source": [
    "sns.countplot(data = pd.DataFrame(y_train_prep), x = 'loan_status', hue = 'loan_status')\n",
    "plt.title('Distribution of Loan Status')\n",
    "plt.xlabel('Loan Status')\n",
    "plt.ylabel('Count')\n",
    "plt.show"
   ]
  },
  {
   "cell_type": "code",
   "execution_count": 96,
   "metadata": {},
   "outputs": [
    {
     "name": "stdout",
     "output_type": "stream",
     "text": [
      "<class 'pandas.core.series.Series'>\n",
      "15884    0\n",
      "15138    1\n",
      "7474     0\n",
      "18212    1\n",
      "6493     0\n",
      "Name: loan_status, dtype: int64\n"
     ]
    }
   ],
   "source": [
    "print(type(y_train_prep))\n",
    "print(y_train_prep[:5])  # Display the first 5 elements"
   ]
  },
  {
   "cell_type": "code",
   "execution_count": 97,
   "metadata": {},
   "outputs": [],
   "source": [
    "# Assuming y_train_prep is a pandas Series\n",
    "y_train_df = pd.DataFrame(y_train_prep, columns=['Target'])"
   ]
  },
  {
   "cell_type": "code",
   "execution_count": 98,
   "metadata": {},
   "outputs": [
    {
     "data": {
      "text/html": [
       "<div>\n",
       "<style scoped>\n",
       "    .dataframe tbody tr th:only-of-type {\n",
       "        vertical-align: middle;\n",
       "    }\n",
       "\n",
       "    .dataframe tbody tr th {\n",
       "        vertical-align: top;\n",
       "    }\n",
       "\n",
       "    .dataframe thead th {\n",
       "        text-align: right;\n",
       "    }\n",
       "</style>\n",
       "<table border=\"1\" class=\"dataframe\">\n",
       "  <thead>\n",
       "    <tr style=\"text-align: right;\">\n",
       "      <th></th>\n",
       "      <th>Target</th>\n",
       "    </tr>\n",
       "  </thead>\n",
       "  <tbody>\n",
       "  </tbody>\n",
       "</table>\n",
       "</div>"
      ],
      "text/plain": [
       "Empty DataFrame\n",
       "Columns: [Target]\n",
       "Index: []"
      ]
     },
     "execution_count": 98,
     "metadata": {},
     "output_type": "execute_result"
    }
   ],
   "source": [
    "y_train_df.head()"
   ]
  },
  {
   "cell_type": "code",
   "execution_count": 99,
   "metadata": {},
   "outputs": [
    {
     "data": {
      "text/plain": [
       "Target    0\n",
       "dtype: int64"
      ]
     },
     "execution_count": 99,
     "metadata": {},
     "output_type": "execute_result"
    }
   ],
   "source": [
    "y_train_df[y_train_df['Target'] == 0].count()"
   ]
  },
  {
   "cell_type": "code",
   "execution_count": 100,
   "metadata": {},
   "outputs": [],
   "source": [
    "X_train_ros, y_train_ros= ros.fit_resample(X_train_prep, y_train_prep)"
   ]
  },
  {
   "cell_type": "code",
   "execution_count": 101,
   "metadata": {},
   "outputs": [
    {
     "data": {
      "text/plain": [
       "<function matplotlib.pyplot.show(close=None, block=None)>"
      ]
     },
     "execution_count": 101,
     "metadata": {},
     "output_type": "execute_result"
    },
    {
     "data": {
      "image/png": "[encoded data removed]",
      "text/plain": [
       "<Figure size 640x480 with 1 Axes>"
      ]
     },
     "metadata": {},
     "output_type": "display_data"
    }
   ],
   "source": [
    "sns.countplot(data = pd.DataFrame(y_train_ros), x = 'loan_status', hue = 'loan_status')\n",
    "plt.title('Loan Status Resampled')\n",
    "plt.xlabel('Loan Status')\n",
    "plt.ylabel('Count')\n",
    "plt.show"
   ]
  },
  {
   "cell_type": "code",
   "execution_count": 102,
   "metadata": {},
   "outputs": [],
   "source": [
    "directory = '../data/processed/'\n",
    "\n",
    "utils.serialize_data(X_train_ros, directory +'X_train_ros.pkl')\n",
    "utils.serialize_data(y_train_ros, directory +'y_train_ros.pkl')"
   ]
  },
  {
   "cell_type": "code",
   "execution_count": 103,
   "metadata": {},
   "outputs": [],
   "source": [
    "PATH = '../data/processed/'\n",
    "\n",
    "X_train_ros = utils.deserialize_data(PATH +'X_train_ros.pkl')\n",
    "y_train_ros = utils.deserialize_data(PATH +'y_train_ros.pkl')"
   ]
  },
  {
   "cell_type": "code",
   "execution_count": 104,
   "metadata": {},
   "outputs": [
    {
     "data": {
      "text/html": [
       "<div>\n",
       "<style scoped>\n",
       "    .dataframe tbody tr th:only-of-type {\n",
       "        vertical-align: middle;\n",
       "    }\n",
       "\n",
       "    .dataframe tbody tr th {\n",
       "        vertical-align: top;\n",
       "    }\n",
       "\n",
       "    .dataframe thead th {\n",
       "        text-align: right;\n",
       "    }\n",
       "</style>\n",
       "<table border=\"1\" class=\"dataframe\">\n",
       "  <thead>\n",
       "    <tr style=\"text-align: right;\">\n",
       "      <th></th>\n",
       "      <th>person_age</th>\n",
       "      <th>person_income</th>\n",
       "      <th>person_emp_length</th>\n",
       "      <th>loan_amnt</th>\n",
       "      <th>loan_int_rate</th>\n",
       "      <th>loan_percent_income</th>\n",
       "      <th>cb_person_cred_hist_length</th>\n",
       "      <th>home_ownership_MORTGAGE</th>\n",
       "      <th>home_ownership_OTHER</th>\n",
       "      <th>home_ownership_OWN</th>\n",
       "      <th>...</th>\n",
       "      <th>loan_intent_VENTURE</th>\n",
       "      <th>loan_grade_A</th>\n",
       "      <th>loan_grade_B</th>\n",
       "      <th>loan_grade_C</th>\n",
       "      <th>loan_grade_D</th>\n",
       "      <th>loan_grade_E</th>\n",
       "      <th>loan_grade_F</th>\n",
       "      <th>loan_grade_G</th>\n",
       "      <th>default_on_file_N</th>\n",
       "      <th>default_on_file_Y</th>\n",
       "    </tr>\n",
       "  </thead>\n",
       "  <tbody>\n",
       "    <tr>\n",
       "      <th>0</th>\n",
       "      <td>25</td>\n",
       "      <td>241875</td>\n",
       "      <td>4.0</td>\n",
       "      <td>16000</td>\n",
       "      <td>7.05</td>\n",
       "      <td>0.07</td>\n",
       "      <td>4</td>\n",
       "      <td>1.0</td>\n",
       "      <td>0.0</td>\n",
       "      <td>0.0</td>\n",
       "      <td>...</td>\n",
       "      <td>0.0</td>\n",
       "      <td>1.0</td>\n",
       "      <td>0.0</td>\n",
       "      <td>0.0</td>\n",
       "      <td>0.0</td>\n",
       "      <td>0.0</td>\n",
       "      <td>0.0</td>\n",
       "      <td>0.0</td>\n",
       "      <td>1.0</td>\n",
       "      <td>0.0</td>\n",
       "    </tr>\n",
       "    <tr>\n",
       "      <th>1</th>\n",
       "      <td>21</td>\n",
       "      <td>18000</td>\n",
       "      <td>5.0</td>\n",
       "      <td>1500</td>\n",
       "      <td>12.18</td>\n",
       "      <td>0.08</td>\n",
       "      <td>4</td>\n",
       "      <td>0.0</td>\n",
       "      <td>0.0</td>\n",
       "      <td>0.0</td>\n",
       "      <td>...</td>\n",
       "      <td>0.0</td>\n",
       "      <td>0.0</td>\n",
       "      <td>1.0</td>\n",
       "      <td>0.0</td>\n",
       "      <td>0.0</td>\n",
       "      <td>0.0</td>\n",
       "      <td>0.0</td>\n",
       "      <td>0.0</td>\n",
       "      <td>1.0</td>\n",
       "      <td>0.0</td>\n",
       "    </tr>\n",
       "    <tr>\n",
       "      <th>2</th>\n",
       "      <td>25</td>\n",
       "      <td>53000</td>\n",
       "      <td>10.0</td>\n",
       "      <td>16000</td>\n",
       "      <td>12.53</td>\n",
       "      <td>0.30</td>\n",
       "      <td>2</td>\n",
       "      <td>1.0</td>\n",
       "      <td>0.0</td>\n",
       "      <td>0.0</td>\n",
       "      <td>...</td>\n",
       "      <td>0.0</td>\n",
       "      <td>0.0</td>\n",
       "      <td>1.0</td>\n",
       "      <td>0.0</td>\n",
       "      <td>0.0</td>\n",
       "      <td>0.0</td>\n",
       "      <td>0.0</td>\n",
       "      <td>0.0</td>\n",
       "      <td>1.0</td>\n",
       "      <td>0.0</td>\n",
       "    </tr>\n",
       "    <tr>\n",
       "      <th>3</th>\n",
       "      <td>28</td>\n",
       "      <td>16800</td>\n",
       "      <td>4.0</td>\n",
       "      <td>5000</td>\n",
       "      <td>13.98</td>\n",
       "      <td>0.30</td>\n",
       "      <td>8</td>\n",
       "      <td>0.0</td>\n",
       "      <td>0.0</td>\n",
       "      <td>1.0</td>\n",
       "      <td>...</td>\n",
       "      <td>0.0</td>\n",
       "      <td>0.0</td>\n",
       "      <td>0.0</td>\n",
       "      <td>1.0</td>\n",
       "      <td>0.0</td>\n",
       "      <td>0.0</td>\n",
       "      <td>0.0</td>\n",
       "      <td>0.0</td>\n",
       "      <td>1.0</td>\n",
       "      <td>0.0</td>\n",
       "    </tr>\n",
       "    <tr>\n",
       "      <th>4</th>\n",
       "      <td>25</td>\n",
       "      <td>50000</td>\n",
       "      <td>2.0</td>\n",
       "      <td>10000</td>\n",
       "      <td>7.90</td>\n",
       "      <td>0.20</td>\n",
       "      <td>2</td>\n",
       "      <td>1.0</td>\n",
       "      <td>0.0</td>\n",
       "      <td>0.0</td>\n",
       "      <td>...</td>\n",
       "      <td>1.0</td>\n",
       "      <td>1.0</td>\n",
       "      <td>0.0</td>\n",
       "      <td>0.0</td>\n",
       "      <td>0.0</td>\n",
       "      <td>0.0</td>\n",
       "      <td>0.0</td>\n",
       "      <td>0.0</td>\n",
       "      <td>1.0</td>\n",
       "      <td>0.0</td>\n",
       "    </tr>\n",
       "  </tbody>\n",
       "</table>\n",
       "<p>5 rows × 26 columns</p>\n",
       "</div>"
      ],
      "text/plain": [
       "   person_age  person_income  person_emp_length  loan_amnt  loan_int_rate  \\\n",
       "0          25         241875                4.0      16000           7.05   \n",
       "1          21          18000                5.0       1500          12.18   \n",
       "2          25          53000               10.0      16000          12.53   \n",
       "3          28          16800                4.0       5000          13.98   \n",
       "4          25          50000                2.0      10000           7.90   \n",
       "\n",
       "   loan_percent_income  cb_person_cred_hist_length  home_ownership_MORTGAGE  \\\n",
       "0                 0.07                           4                      1.0   \n",
       "1                 0.08                           4                      0.0   \n",
       "2                 0.30                           2                      1.0   \n",
       "3                 0.30                           8                      0.0   \n",
       "4                 0.20                           2                      1.0   \n",
       "\n",
       "   home_ownership_OTHER  home_ownership_OWN  ...  loan_intent_VENTURE  \\\n",
       "0                   0.0                 0.0  ...                  0.0   \n",
       "1                   0.0                 0.0  ...                  0.0   \n",
       "2                   0.0                 0.0  ...                  0.0   \n",
       "3                   0.0                 1.0  ...                  0.0   \n",
       "4                   0.0                 0.0  ...                  1.0   \n",
       "\n",
       "   loan_grade_A  loan_grade_B  loan_grade_C  loan_grade_D  loan_grade_E  \\\n",
       "0           1.0           0.0           0.0           0.0           0.0   \n",
       "1           0.0           1.0           0.0           0.0           0.0   \n",
       "2           0.0           1.0           0.0           0.0           0.0   \n",
       "3           0.0           0.0           1.0           0.0           0.0   \n",
       "4           1.0           0.0           0.0           0.0           0.0   \n",
       "\n",
       "   loan_grade_F  loan_grade_G  default_on_file_N  default_on_file_Y  \n",
       "0           0.0           0.0                1.0                0.0  \n",
       "1           0.0           0.0                1.0                0.0  \n",
       "2           0.0           0.0                1.0                0.0  \n",
       "3           0.0           0.0                1.0                0.0  \n",
       "4           0.0           0.0                1.0                0.0  \n",
       "\n",
       "[5 rows x 26 columns]"
      ]
     },
     "execution_count": 104,
     "metadata": {},
     "output_type": "execute_result"
    }
   ],
   "source": [
    "X_train_ros.head()"
   ]
  },
  {
   "cell_type": "markdown",
   "metadata": {},
   "source": [
    "Model Evaluation"
   ]
  },
  {
   "cell_type": "code",
   "execution_count": 105,
   "metadata": {},
   "outputs": [],
   "source": [
    "import xgboost\n",
    "import sklearn\n",
    "import pickle\n",
    "from sklearn.model_selection import GridSearchCV, RandomizedSearchCV,StratifiedKFold\n",
    "from sklearn.metrics import classification_report, confusion_matrix, accuracy_score, f1_score, precision_score, recall_score\n",
    "from sklearn.metrics import make_scorer, recall_score, accuracy_score, f1_score\n",
    "from sklearn.preprocessing import StandardScaler, MinMaxScaler, RobustScaler\n",
    "\n",
    "\n",
    "from sklearn.linear_model import LogisticRegression\n",
    "from sklearn.neighbors import KNeighborsClassifier\n",
    "from sklearn.tree import DecisionTreeClassifier\n",
    "from sklearn.ensemble import RandomForestClassifier, AdaBoostClassifier\n",
    "from xgboost import XGBClassifier"
   ]
  },
  {
   "cell_type": "markdown",
   "metadata": {},
   "source": [
    "Load Dataset pkl"
   ]
  },
  {
   "cell_type": "code",
   "execution_count": 106,
   "metadata": {},
   "outputs": [],
   "source": [
    "path = '../data/processed/'\n",
    "\n",
    "X_train_ros = utils.deserialize_data(path +'X_train_ros.pkl')\n",
    "y_train_ros = utils.deserialize_data(path +'y_train_ros.pkl')\n",
    "\n",
    "X_valid = utils.deserialize_data(path +'X_valid_prep.pkl')\n",
    "y_valid = utils.deserialize_data(path +'y_valid.pkl')\n",
    "\n",
    "X_test = utils.deserialize_data(path +'X_test_prep.pkl')\n",
    "y_test = utils.deserialize_data(path +'y_test.pkl')"
   ]
  },
  {
   "cell_type": "code",
   "execution_count": 107,
   "metadata": {},
   "outputs": [
    {
     "name": "stdout",
     "output_type": "stream",
     "text": [
      "<class 'pandas.core.frame.DataFrame'>\n",
      "RangeIndex: 40582 entries, 0 to 40581\n",
      "Data columns (total 26 columns):\n",
      " #   Column                         Non-Null Count  Dtype  \n",
      "---  ------                         --------------  -----  \n",
      " 0   person_age                     40582 non-null  int64  \n",
      " 1   person_income                  40582 non-null  int64  \n",
      " 2   person_emp_length              40582 non-null  float64\n",
      " 3   loan_amnt                      40582 non-null  int64  \n",
      " 4   loan_int_rate                  40582 non-null  float64\n",
      " 5   loan_percent_income            40582 non-null  float64\n",
      " 6   cb_person_cred_hist_length     40582 non-null  int64  \n",
      " 7   home_ownership_MORTGAGE        40582 non-null  float64\n",
      " 8   home_ownership_OTHER           40582 non-null  float64\n",
      " 9   home_ownership_OWN             40582 non-null  float64\n",
      " 10  home_ownership_RENT            40582 non-null  float64\n",
      " 11  loan_intent_DEBTCONSOLIDATION  40582 non-null  float64\n",
      " 12  loan_intent_EDUCATION          40582 non-null  float64\n",
      " 13  loan_intent_HOMEIMPROVEMENT    40582 non-null  float64\n",
      " 14  loan_intent_MEDICAL            40582 non-null  float64\n",
      " 15  loan_intent_PERSONAL           40582 non-null  float64\n",
      " 16  loan_intent_VENTURE            40582 non-null  float64\n",
      " 17  loan_grade_A                   40582 non-null  float64\n",
      " 18  loan_grade_B                   40582 non-null  float64\n",
      " 19  loan_grade_C                   40582 non-null  float64\n",
      " 20  loan_grade_D                   40582 non-null  float64\n",
      " 21  loan_grade_E                   40582 non-null  float64\n",
      " 22  loan_grade_F                   40582 non-null  float64\n",
      " 23  loan_grade_G                   40582 non-null  float64\n",
      " 24  default_on_file_N              40582 non-null  float64\n",
      " 25  default_on_file_Y              40582 non-null  float64\n",
      "dtypes: float64(22), int64(4)\n",
      "memory usage: 8.1 MB\n"
     ]
    }
   ],
   "source": [
    "X_train_ros.info()"
   ]
  },
  {
   "cell_type": "code",
   "execution_count": 108,
   "metadata": {},
   "outputs": [
    {
     "data": {
      "text/plain": [
       "loan_status\n",
       "0    20291\n",
       "1    20291\n",
       "Name: count, dtype: int64"
      ]
     },
     "execution_count": 108,
     "metadata": {},
     "output_type": "execute_result"
    }
   ],
   "source": [
    "y_train_ros.value_counts()"
   ]
  },
  {
   "cell_type": "markdown",
   "metadata": {},
   "source": [
    "Train Model"
   ]
  },
  {
   "cell_type": "markdown",
   "metadata": {},
   "source": [
    "Define a function for training the model with parameters as follows:\n",
    "\n",
    "- The model instance\n",
    "- The list of hyperparameters\n",
    "- The training data\n",
    "- The target data\n",
    "\n",
    "Create an instance for hyperparameter tuning.\n",
    "\n",
    "- Assign the model instance to this hyperparameter tuning instance, so the model training includes hyperparameter tuning.\n",
    "- Assign the list of parameters to this instance.\n",
    "- Set the parameter n_jobs to -1 for this instance.\n",
    "- Set the parameter verbose to 3 for this instance.\n",
    "\n",
    "Train the model through the hyperparameter tuning instance.\n",
    "\n",
    "Return the hyperparameter tuning instance from the function once training is completed."
   ]
  },
  {
   "cell_type": "code",
   "execution_count": 109,
   "metadata": {},
   "outputs": [],
   "source": [
    "def train_model(model, params, X_train, y_train):\n",
    "\n",
    "    \"\"\"\n",
    "    Train a machine learning model using randomized hyperparameter search and evaluate its performance.\n",
    "\n",
    "    Parameters:\n",
    "    ----------\n",
    "    model : sklearn-like estimator\n",
    "        The machine learning model to be tuned and trained (e.g., RandomForestClassifier, LogisticRegression, etc.).\n",
    "    params : dict\n",
    "        A dictionary specifying the parameter distributions for the RandomizedSearchCV.\n",
    "    X_train : array-like, shape (n_samples, n_features)\n",
    "        The training feature dataset.\n",
    "    y_train : array-like, shape (n_samples,)\n",
    "        The ground truth labels for the training dataset.\n",
    "\n",
    "    The best_model (accessible through random_search.best_estimator_).\n",
    "    The best hyperparameters (random_search.best_params_).\n",
    "    Cross-validation results (random_search.cv_results_).\n",
    "    Other metadata related to the hyperparameter tuning process.\n",
    "\n",
    "    \"\"\"\n",
    "    random_search = RandomizedSearchCV(estimator = model,\n",
    "                                       param_distributions = params,\n",
    "                                       n_iter = 50,\n",
    "                                       scoring =  { 'F1': 'f1',\n",
    "                                                    'accuracy': 'accuracy',\n",
    "                                                    'Recall': 'recall'},\n",
    "                                       n_jobs = -1,\n",
    "                                       verbose = 3,\n",
    "                                       cv = StratifiedKFold(n_splits = 5,\n",
    "                                                            shuffle = True,\n",
    "                                                            random_state = 50),\n",
    "                                       refit = 'F1')\n",
    "    random_search.fit(X_train, y_train)\n",
    "    best_model = random_search.best_estimator_\n",
    "    y_pred = best_model.predict(X_train)\n",
    "    accuracy = accuracy_score(y_train, y_pred)\n",
    "    recall = recall_score(y_train, y_pred)\n",
    "    f1 = f1_score(y_train, y_pred)\n",
    "    report = classification_report(y_train, y_pred,output_dict= True)\n",
    "    report_df = pd.DataFrame(report).transpose()\n",
    "\n",
    "\n",
    "    print(f'Best Parameters: {random_search.best_params_}')\n",
    "    print(f'Best Score: {random_search.best_score_}')\n",
    "    print(f'F1 Score: {f1}')\n",
    "    print(f'Accuracy: {accuracy}')\n",
    "    print(f'Recall: {recall}')\n",
    "    print(f'Classification Report:')\n",
    "    print(report_df)\n",
    "    return best_model"
   ]
  },
  {
   "cell_type": "markdown",
   "metadata": {},
   "source": [
    "Logistic Regression"
   ]
  },
  {
   "cell_type": "code",
   "execution_count": 110,
   "metadata": {},
   "outputs": [
    {
     "name": "stdout",
     "output_type": "stream",
     "text": [
      "Fitting 5 folds for each of 50 candidates, totalling 250 fits\n"
     ]
    },
    {
     "name": "stderr",
     "output_type": "stream",
     "text": [
      "c:\\Users\\Admin\\Documents\\project\\Hisyam\\CreditRisk\\.venv\\Lib\\site-packages\\sklearn\\linear_model\\_logistic.py:1271: UserWarning: 'n_jobs' > 1 does not have any effect when 'solver' is set to 'liblinear'. Got 'n_jobs' = 8.\n",
      "  warnings.warn(\n"
     ]
    },
    {
     "name": "stdout",
     "output_type": "stream",
     "text": [
      "Best Parameters: {'solver': 'liblinear', 'random_state': 50, 'penalty': 'l1', 'max_iter': 200, 'C': 1}\n",
      "Best Score: 0.7937769892971536\n",
      "F1 Score: 0.7938796602051876\n",
      "Accuracy: 0.7985067271203982\n",
      "Recall: 0.7760583509930511\n",
      "Classification Report:\n",
      "              precision    recall  f1-score       support\n",
      "0              0.785681  0.820955  0.802931  20291.000000\n",
      "1              0.812539  0.776058  0.793880  20291.000000\n",
      "accuracy       0.798507  0.798507  0.798507      0.798507\n",
      "macro avg      0.799110  0.798507  0.798405  40582.000000\n",
      "weighted avg   0.799110  0.798507  0.798405  40582.000000\n"
     ]
    }
   ],
   "source": [
    "log_reg_params_1 = {\n",
    "    'penalty': ['l1', 'l2'],  # Type of regularization\n",
    "    'C': [0.01, 0.1, 1, 10, 100,1000],               # Regularization strength\n",
    "    'solver': ['liblinear', 'saga'],                 # Solvers\n",
    "    'max_iter': [60,100, 200],   # Maximum iterations\n",
    "    'random_state': [50]\n",
    "}\n",
    "\n",
    "log_reg_model = LogisticRegression(random_state = 50 , n_jobs = -1)\n",
    "log_reg_best = train_model(log_reg_model, log_reg_params_1, X_train_ros, y_train_ros)"
   ]
  },
  {
   "cell_type": "markdown",
   "metadata": {},
   "source": [
    "Random Forest"
   ]
  },
  {
   "cell_type": "code",
   "execution_count": 111,
   "metadata": {},
   "outputs": [
    {
     "name": "stdout",
     "output_type": "stream",
     "text": [
      "Fitting 5 folds for each of 50 candidates, totalling 250 fits\n",
      "Best Parameters: {'random_state': 50, 'n_estimators': 300, 'min_samples_split': 20, 'min_samples_leaf': 10, 'max_depth': 15, 'criterion': 'gini', 'class_weight': {0: 1, 1: 2}}\n",
      "Best Score: 0.8953428283915941\n",
      "F1 Score: 0.9239945466939332\n",
      "Accuracy: 0.9230693410871815\n",
      "Recall: 0.9352422256172688\n",
      "Classification Report:\n",
      "              precision    recall  f1-score       support\n",
      "0              0.933626  0.910896  0.922121  20291.000000\n",
      "1              0.913014  0.935242  0.923995  20291.000000\n",
      "accuracy       0.923069  0.923069  0.923069      0.923069\n",
      "macro avg      0.923320  0.923069  0.923058  40582.000000\n",
      "weighted avg   0.923320  0.923069  0.923058  40582.000000\n"
     ]
    }
   ],
   "source": [
    "random_forest_params = {\n",
    "               'n_estimators': [100,200,300],\n",
    "               'max_depth': [5,10,15],\n",
    "               'min_samples_leaf':[10,20],\n",
    "               'min_samples_split' :[20,30],\n",
    "               'criterion':['gini','entropy'],\n",
    "               'class_weight' : [{0: 1, 1: 2}],\n",
    "               'random_state' : [50]}\n",
    "random_forest = RandomForestClassifier(random_state = 50, n_jobs = -1)\n",
    "random_forest_best = train_model(random_forest, random_forest_params, X_train_ros, y_train_ros)"
   ]
  },
  {
   "cell_type": "markdown",
   "metadata": {},
   "source": [
    "Decision Tree"
   ]
  },
  {
   "cell_type": "code",
   "execution_count": 112,
   "metadata": {},
   "outputs": [
    {
     "name": "stdout",
     "output_type": "stream",
     "text": [
      "Fitting 5 folds for each of 50 candidates, totalling 250 fits\n",
      "Best Parameters: {'random_state': 50, 'min_samples_split': 10, 'min_samples_leaf': 5, 'max_depth': 15, 'criterion': 'gini', 'class_weight': {0: 1, 1: 2}}\n",
      "Best Score: 0.8774382403465493\n",
      "F1 Score: 0.9005592492139308\n",
      "Accuracy: 0.8979104036272239\n",
      "Recall: 0.9245478290867872\n",
      "Classification Report:\n",
      "              precision    recall  f1-score      support\n",
      "0              0.920302  0.871273  0.895117  20291.00000\n",
      "1              0.877784  0.924548  0.900559  20291.00000\n",
      "accuracy       0.897910  0.897910  0.897910      0.89791\n",
      "macro avg      0.899043  0.897910  0.897838  40582.00000\n",
      "weighted avg   0.899043  0.897910  0.897838  40582.00000\n"
     ]
    }
   ],
   "source": [
    "decision_tree_params = {\n",
    "    'max_depth': [5, 10, 15],\n",
    "    'min_samples_leaf': [5,10,15],\n",
    "    'min_samples_split': [10,20,30],\n",
    "    'criterion': ['gini', 'entropy'],\n",
    "    'class_weight' : [{0: 1, 1: 2}],\n",
    "    'random_state': [50]\n",
    "}\n",
    "decision_tree = DecisionTreeClassifier(random_state=50)\n",
    "decision_tree_best = train_model(decision_tree, decision_tree_params, X_train_ros, y_train_ros)\n"
   ]
  },
  {
   "cell_type": "markdown",
   "metadata": {},
   "source": [
    "ADABoost"
   ]
  },
  {
   "cell_type": "code",
   "execution_count": 113,
   "metadata": {},
   "outputs": [
    {
     "name": "stderr",
     "output_type": "stream",
     "text": [
      "c:\\Users\\Admin\\Documents\\project\\Hisyam\\CreditRisk\\.venv\\Lib\\site-packages\\sklearn\\model_selection\\_search.py:317: UserWarning: The total space of parameters 1 is smaller than n_iter=50. Running 1 iterations. For exhaustive searches, use GridSearchCV.\n",
      "  warnings.warn(\n"
     ]
    },
    {
     "name": "stdout",
     "output_type": "stream",
     "text": [
      "Fitting 5 folds for each of 1 candidates, totalling 5 fits\n"
     ]
    },
    {
     "name": "stderr",
     "output_type": "stream",
     "text": [
      "c:\\Users\\Admin\\Documents\\project\\Hisyam\\CreditRisk\\.venv\\Lib\\site-packages\\sklearn\\ensemble\\_weight_boosting.py:519: FutureWarning: The parameter 'algorithm' is deprecated in 1.6 and has no effect. It will be removed in version 1.8.\n",
      "  warnings.warn(\n"
     ]
    },
    {
     "name": "stdout",
     "output_type": "stream",
     "text": [
      "Best Parameters: {'random_state': 50, 'n_estimators': 700, 'learning_rate': 0.01, 'estimator': DecisionTreeClassifier(class_weight={0: 1, 1: 2}, max_depth=15,\n",
      "                       max_features='sqrt', min_samples_leaf=10,\n",
      "                       min_samples_split=20, random_state=50), 'algorithm': 'SAMME'}\n",
      "Best Score: 0.9525250410743237\n",
      "F1 Score: 0.9853668134084258\n",
      "Accuracy: 0.9853383273372431\n",
      "Recall: 0.9872850032033906\n",
      "Classification Report:\n",
      "              precision    recall  f1-score       support\n",
      "0              0.987235  0.983392  0.985310  20291.000000\n",
      "1              0.983456  0.987285  0.985367  20291.000000\n",
      "accuracy       0.985338  0.985338  0.985338      0.985338\n",
      "macro avg      0.985346  0.985338  0.985338  40582.000000\n",
      "weighted avg   0.985346  0.985338  0.985338  40582.000000\n"
     ]
    }
   ],
   "source": [
    "base_estimator = DecisionTreeClassifier(max_depth=15,\n",
    "                                        min_samples_leaf=10,\n",
    "                                        min_samples_split=20,\n",
    "                                        class_weight = {0: 1, 1: 2},\n",
    "                                        max_features='sqrt', random_state=50)\n",
    "\n",
    "adaboost_params = {\n",
    "    'n_estimators': [700],  # Number of estimators\n",
    "    'learning_rate': [0.01],  # Learning rate\n",
    "    'estimator': [base_estimator],  # Base estimator\n",
    "    'algorithm': ['SAMME'],  # Algorithms\n",
    "    'random_state': [50]  # Random state for reproducibility\n",
    "}\n",
    "\n",
    "# Initialize the AdaBoost classifier with the base estimator\n",
    "adaboost = AdaBoostClassifier(random_state=50)\n",
    "adaboost_best = train_model(adaboost, adaboost_params, X_train_ros, y_train_ros)"
   ]
  },
  {
   "cell_type": "markdown",
   "metadata": {},
   "source": [
    "XGBoost"
   ]
  },
  {
   "cell_type": "code",
   "execution_count": 114,
   "metadata": {},
   "outputs": [],
   "source": [
    "from sklearn.base import BaseEstimator, ClassifierMixin\n",
    "\n",
    "class SklearnXGBClassifier(BaseEstimator, ClassifierMixin):\n",
    "    def __init__(self, **kwargs):\n",
    "        self.model = XGBClassifier(**kwargs)\n",
    "\n",
    "    def fit(self, X, y, **kwargs):\n",
    "        self.model.fit(X, y, **kwargs)\n",
    "        return self\n",
    "\n",
    "    def predict(self, X):\n",
    "        return self.model.predict(X)\n",
    "\n",
    "    def predict_proba(self, X):\n",
    "        return self.model.predict_proba(X)\n",
    "\n",
    "    def get_params(self, deep=True):\n",
    "        return self.model.get_params(deep)\n",
    "\n",
    "    def set_params(self, **params):\n",
    "        self.model.set_params(**params)\n",
    "        return self\n",
    "\n",
    "xgb = SklearnXGBClassifier(random_state=50, eval_metric = 'logloss')"
   ]
  },
  {
   "cell_type": "code",
   "execution_count": 118,
   "metadata": {},
   "outputs": [
    {
     "name": "stderr",
     "output_type": "stream",
     "text": [
      "c:\\Users\\Admin\\Documents\\project\\Hisyam\\CreditRisk\\.venv\\Lib\\site-packages\\sklearn\\model_selection\\_search.py:317: UserWarning: The total space of parameters 12 is smaller than n_iter=50. Running 12 iterations. For exhaustive searches, use GridSearchCV.\n",
      "  warnings.warn(\n"
     ]
    },
    {
     "name": "stdout",
     "output_type": "stream",
     "text": [
      "Fitting 5 folds for each of 12 candidates, totalling 60 fits\n"
     ]
    },
    {
     "name": "stderr",
     "output_type": "stream",
     "text": [
      "c:\\Users\\Admin\\Documents\\project\\Hisyam\\CreditRisk\\.venv\\Lib\\site-packages\\xgboost\\core.py:158: UserWarning: [16:08:51] WARNING: C:\\buildkite-agent\\builds\\buildkite-windows-cpu-autoscaling-group-i-0c55ff5f71b100e98-1\\xgboost\\xgboost-ci-windows\\src\\learner.cc:740: \n",
      "Parameters: { \"model__learning_rate\", \"model__max_depth\", \"model__n_estimators\", \"model__random_state\", \"model__scale_pos_weight\" } are not used.\n",
      "\n",
      "  warnings.warn(smsg, UserWarning)\n"
     ]
    },
    {
     "name": "stdout",
     "output_type": "stream",
     "text": [
      "Best Parameters: {'model__scale_pos_weight': 2, 'model__random_state': 50, 'model__n_estimators': 100, 'model__max_depth': 3, 'model__learning_rate': 0.05}\n",
      "Best Score: 0.9278091549242606\n",
      "F1 Score: 0.9569397256826475\n",
      "Accuracy: 0.9578384505445764\n",
      "Recall: 0.9369671282834754\n",
      "Classification Report:\n",
      "              precision    recall  f1-score       support\n",
      "0              0.939493  0.978710  0.958700  20291.000000\n",
      "1              0.977782  0.936967  0.956940  20291.000000\n",
      "accuracy       0.957838  0.957838  0.957838      0.957838\n",
      "macro avg      0.958638  0.957838  0.957820  40582.000000\n",
      "weighted avg   0.958638  0.957838  0.957820  40582.000000\n"
     ]
    }
   ],
   "source": [
    "#xgboost_params = {\n",
    "#    'n_estimators': [100,200],\n",
    "#    'max_depth': [3,5,7],\n",
    "#    'learning_rate': [0.05, 0.1],   # Test lower learning rates for smoother convergence\n",
    "#    'scale_pos_weight': [2],\n",
    "#    'random_state': [50]\n",
    "#}\n",
    "\n",
    "#xgboost = XGBClassifier(random_state=50, eval_metric = 'logloss')\n",
    "#xgboost_best = train_model(xgboost, xgboost_params, X_train_ros, y_train_ros)\n",
    "\n",
    "# Hyperparameters\n",
    "xgboost_params = {\n",
    "    'model__n_estimators': [100, 200],\n",
    "    'model__max_depth': [3, 5, 7],\n",
    "    'model__learning_rate': [0.05, 0.1],\n",
    "    'model__scale_pos_weight': [2],\n",
    "    'model__random_state': [50]\n",
    "}\n",
    "\n",
    "# Train the model using your custom wrapper\n",
    "xgboost_best = train_model(xgb, xgboost_params, X_train_ros, y_train_ros)"
   ]
  },
  {
   "cell_type": "code",
   "execution_count": 120,
   "metadata": {},
   "outputs": [],
   "source": [
    "import pickle\n",
    "\n",
    "def serialize_data(obj, filepath):\n",
    "    with open(filepath, 'wb') as f:\n",
    "        pickle.dump(obj, f)\n",
    "\n",
    "# Serialize models\n",
    "serialize_data(log_reg_best, path + 'log_reg_best.pkl')\n",
    "serialize_data(random_forest_best, path + 'random_forest_best.pkl')\n",
    "serialize_data(xgboost_best, path + 'xgboost_best.pkl')\n",
    "serialize_data(decision_tree_best, path + 'decision_tree_best.pkl')\n",
    "serialize_data(adaboost_best, path + 'adaboost_best.pkl')\n"
   ]
  },
  {
   "cell_type": "code",
   "execution_count": 121,
   "metadata": {},
   "outputs": [],
   "source": [
    "path = '../models/' \n",
    "\n",
    "log_reg_best = utils.deserialize_data(path +'log_reg_best.pkl')\n",
    "rf_best = utils.deserialize_data(path +'random_forest_best.pkl')\n",
    "xgb_best = utils.deserialize_data(path +'xgboost_best.pkl')\n",
    "adaboost_best = utils.deserialize_data(path +'adaboost_best.pkl')\n",
    "dtc_best = utils.deserialize_data(path +'decision_tree_best.pkl')"
   ]
  },
  {
   "cell_type": "markdown",
   "metadata": {},
   "source": [
    "Validation Score"
   ]
  },
  {
   "cell_type": "code",
   "execution_count": 122,
   "metadata": {},
   "outputs": [],
   "source": [
    "from sklearn.metrics import confusion_matrix, accuracy_score, precision_score, recall_score, f1_score\n",
    "\n",
    "def validate_model(model, X_valid, y_valid):\n",
    "    \n",
    "    \"\"\"\n",
    "    Validate the performance of a classification model on a validation dataset.\n",
    "\n",
    "    Parameters:\n",
    "    ----------\n",
    "    model : sklearn-like model\n",
    "        A trained machine learning model that implements the `predict` method.\n",
    "    X_valid : array-like, shape (n_samples, n_features)\n",
    "        The validation feature dataset.\n",
    "    y_valid : array-like, shape (n_samples,)\n",
    "        The ground truth labels for the validation dataset.\n",
    "\n",
    "    Returns:\n",
    "    -------\n",
    "    confusion_matrix_df : pandas.DataFrame\n",
    "        A confusion matrix represented as a DataFrame with labeled rows and columns.\n",
    "\n",
    "    Prints:\n",
    "    -------\n",
    "    - Precision Score: The ratio of correctly predicted positive observations to the total predicted positive observations.\n",
    "    - Recall Score: The ratio of correctly predicted positive observations to all actual positive observations.\n",
    "    - F1 Score: The harmonic mean of precision and recall.\n",
    "    - Accuracy Score: The ratio of correctly predicted observations to the total observations.\n",
    "    - Confusion matrix: A labeled DataFrame showing the counts of True Positives, True Negatives, False Positives, and False Negatives.\n",
    "    \"\"\"\n",
    "    \n",
    "    valid_pred = model.predict(X_valid)\n",
    "    cm = confusion_matrix(y_valid, valid_pred)\n",
    "    confusion_matrix_df = pd.DataFrame(cm, columns=[\"Predicted Negative\", \"Predicted Positive\"],\n",
    "                              index=[\"Actual Negative\", \"Actual Positive\"])\n",
    "\n",
    "    y_valid_pred = model.predict(X_valid)\n",
    "    accuracy = accuracy_score(y_valid, y_valid_pred)\n",
    "    precision = precision_score(y_valid, y_valid_pred)\n",
    "    recall = recall_score(y_valid, y_valid_pred)\n",
    "    f1 = f1_score(y_valid, y_valid_pred)\n",
    "\n",
    "    print(f'Precision Score: {precision}')\n",
    "    print(f'Recall Score: {recall}')\n",
    "    print(f'F1 Score: {f1}')\n",
    "    print(f'Accuracy Score: {accuracy}')\n",
    "    print(confusion_matrix_df)\n",
    "\n",
    "    return confusion_matrix_df"
   ]
  },
  {
   "cell_type": "code",
   "execution_count": 123,
   "metadata": {},
   "outputs": [
    {
     "name": "stdout",
     "output_type": "stream",
     "text": [
      "Precision Score: 0.5393700787401575\n",
      "Recall Score: 0.770745428973277\n",
      "F1 Score: 0.6346265199768385\n",
      "Accuracy Score: 0.8063228974831185\n",
      "                 Predicted Negative  Predicted Positive\n",
      "Actual Negative                2079                 468\n",
      "Actual Positive                 163                 548\n"
     ]
    }
   ],
   "source": [
    "log_reg_matrix = validate_model(log_reg_best, X_valid, y_valid)"
   ]
  },
  {
   "cell_type": "code",
   "execution_count": 124,
   "metadata": {},
   "outputs": [
    {
     "name": "stdout",
     "output_type": "stream",
     "text": [
      "Precision Score: 0.6662883087400681\n",
      "Recall Score: 0.8255977496483825\n",
      "F1 Score: 0.7374371859296482\n",
      "Accuracy Score: 0.8717004297114794\n",
      "                 Predicted Negative  Predicted Positive\n",
      "Actual Negative                2253                 294\n",
      "Actual Positive                 124                 587\n"
     ]
    }
   ],
   "source": [
    "rf_matrix= validate_model(random_forest_best, X_valid, y_valid)"
   ]
  },
  {
   "cell_type": "code",
   "execution_count": 125,
   "metadata": {},
   "outputs": [
    {
     "name": "stdout",
     "output_type": "stream",
     "text": [
      "Precision Score: 0.5803212851405622\n",
      "Recall Score: 0.8129395218002813\n",
      "F1 Score: 0.677211482132396\n",
      "Accuracy Score: 0.830877839165132\n",
      "                 Predicted Negative  Predicted Positive\n",
      "Actual Negative                2129                 418\n",
      "Actual Positive                 133                 578\n"
     ]
    }
   ],
   "source": [
    "dtc_matrix = validate_model(decision_tree_best, X_valid, y_valid)"
   ]
  },
  {
   "cell_type": "markdown",
   "metadata": {},
   "source": [
    "adaboost_matrix = validate_model(adaboost_best, X_valid, y_valid)"
   ]
  },
  {
   "cell_type": "code",
   "execution_count": 127,
   "metadata": {},
   "outputs": [
    {
     "name": "stdout",
     "output_type": "stream",
     "text": [
      "Precision Score: 0.7994310099573257\n",
      "Recall Score: 0.790436005625879\n",
      "F1 Score: 0.7949080622347949\n",
      "Accuracy Score: 0.910988336402701\n",
      "                 Predicted Negative  Predicted Positive\n",
      "Actual Negative                2406                 141\n",
      "Actual Positive                 149                 562\n"
     ]
    }
   ],
   "source": [
    "adaboost_matrix = validate_model(adaboost_best, X_valid, y_valid)"
   ]
  },
  {
   "cell_type": "code",
   "execution_count": 128,
   "metadata": {},
   "outputs": [
    {
     "name": "stdout",
     "output_type": "stream",
     "text": [
      "Precision Score: 0.8586309523809523\n",
      "Recall Score: 0.8115330520393812\n",
      "F1 Score: 0.8344179320318149\n",
      "Accuracy Score: 0.9297114794352364\n",
      "                 Predicted Negative  Predicted Positive\n",
      "Actual Negative                2452                  95\n",
      "Actual Positive                 134                 577\n"
     ]
    }
   ],
   "source": [
    "xgb_matrix = validate_model(xgboost_best, X_valid, y_valid)"
   ]
  },
  {
   "cell_type": "markdown",
   "metadata": {},
   "source": [
    "Threshold Evaluation"
   ]
  },
  {
   "cell_type": "code",
   "execution_count": 129,
   "metadata": {},
   "outputs": [],
   "source": [
    "import matplotlib.pyplot as plt\n",
    "import seaborn as sns\n",
    "\n",
    "def threshold_tuning(model, valid_data, valid_target):\n",
    "    \"\"\"\n",
    "    Perform threshold tuning for a trained model using validation data.\n",
    "\n",
    "    This function predicts the probabilities for the validation data and loops through\n",
    "    thresholds from 0 to 1 (in 100 steps) to calculate the F1 metric. It stores the\n",
    "    results in a dictionary structure for plotting metrics vs. thresholds.\n",
    "\n",
    "    Parameters:\n",
    "    ----------\n",
    "    model : sklearn model\n",
    "        Trained model for which threshold tuning will be performed.\n",
    "    valid_data : pd.DataFrame or np.array\n",
    "        Validation data features (X_valid).\n",
    "    valid_target : pd.Series or np.array\n",
    "        Validation data target labels (y_valid).\n",
    "\n",
    "    Returns:\n",
    "    --------\n",
    "    thresholds : list of dict\n",
    "        List of dictionaries containing model name, threshold, and F1 score.\n",
    "    \"\"\"\n",
    "\n",
    "    # Predict probabilities for the validation data\n",
    "    y_valid_pred = model.predict_proba(valid_data)\n",
    "    y_probs = y_valid_pred[:,1]\n",
    "\n",
    "    # Get model name\n",
    "    model_name = type(model).__name__\n",
    "\n",
    "    # Initialize the list to store threshold metrics\n",
    "    thresholds = []\n",
    "\n",
    "    # Loop through thresholds from 0 to 1 in 100 steps\n",
    "    for threshold in np.arange(0, 1.01, 0.01):\n",
    "        # Apply threshold to convert probabilities to binary predictions\n",
    "        y_pred = (y_probs >= threshold).astype(int)\n",
    "\n",
    "        # Calculate the F1 score\n",
    "        f1 = f1_score(valid_target, y_pred)\n",
    "\n",
    "        # Store the result in a dictionary\n",
    "        thresholds.append(\n",
    "            {'model': model_name,\n",
    "            'threshold': threshold,\n",
    "            'metric': f1}\n",
    "            )\n",
    "\n",
    "    threshold_df = pd.DataFrame(thresholds)\n",
    "\n",
    "    # Plot F1 score vs threshold using Seaborn\n",
    "    plt.figure(figsize=(10, 6))\n",
    "    sns.lineplot(data=threshold_df, x='threshold', y='metric', label='F1 Score')\n",
    "    plt.title(f'F1 Score vs Threshold ({model_name})')\n",
    "    plt.xlabel('Threshold')\n",
    "    plt.ylabel('F1 Score')\n",
    "    plt.legend()\n",
    "    plt.grid(True)  # To add a grid to the plot\n",
    "    plt.show()\n",
    "\n",
    "    return thresholds"
   ]
  },
  {
   "cell_type": "code",
   "execution_count": 130,
   "metadata": {},
   "outputs": [
    {
     "data": {
      "image/png": "[encoded data removed]",
      "text/plain": [
       "<Figure size 1000x600 with 1 Axes>"
      ]
     },
     "metadata": {},
     "output_type": "display_data"
    }
   ],
   "source": [
    "log_reg_thres = threshold_tuning(log_reg_best, X_valid, y_valid)"
   ]
  },
  {
   "cell_type": "code",
   "execution_count": 131,
   "metadata": {},
   "outputs": [
    {
     "data": {
      "image/png": "[encoded data removed]",
      "text/plain": [
       "<Figure size 1000x600 with 1 Axes>"
      ]
     },
     "metadata": {},
     "output_type": "display_data"
    }
   ],
   "source": [
    "dtc_thresh = threshold_tuning(dtc_best, X_valid, y_valid)"
   ]
  },
  {
   "cell_type": "code",
   "execution_count": 132,
   "metadata": {},
   "outputs": [
    {
     "data": {
      "image/png": "[encoded data removed]",
      "text/plain": [
       "<Figure size 1000x600 with 1 Axes>"
      ]
     },
     "metadata": {},
     "output_type": "display_data"
    }
   ],
   "source": [
    "random_forest_thresh = threshold_tuning(rf_best, X_valid, y_valid)"
   ]
  },
  {
   "cell_type": "code",
   "execution_count": 133,
   "metadata": {},
   "outputs": [
    {
     "data": {
      "image/png": "[encoded data removed]",
      "text/plain": [
       "<Figure size 1000x600 with 1 Axes>"
      ]
     },
     "metadata": {},
     "output_type": "display_data"
    }
   ],
   "source": [
    "adaboost_thresh = threshold_tuning(adaboost_best, X_valid, y_valid)"
   ]
  },
  {
   "cell_type": "code",
   "execution_count": 134,
   "metadata": {},
   "outputs": [
    {
     "data": {
      "image/png": "[encoded data removed]",
      "text/plain": [
       "<Figure size 1000x600 with 1 Axes>"
      ]
     },
     "metadata": {},
     "output_type": "display_data"
    }
   ],
   "source": [
    "xgb_thresh = threshold_tuning(xgb_best, X_valid, y_valid)"
   ]
  },
  {
   "cell_type": "markdown",
   "metadata": {},
   "source": [
    "Best Threshold"
   ]
  },
  {
   "cell_type": "code",
   "execution_count": 135,
   "metadata": {},
   "outputs": [],
   "source": [
    "import json\n",
    "\n",
    "def best_threshold(model_threshold, path):\n",
    "\n",
    "\n",
    "    threshold_df = pd.DataFrame(model_threshold).sort_values(by = 'metric', ascending = False).reset_index(drop = True)\n",
    "    best_threshold = threshold_df.iloc[0]\n",
    "    result = best_threshold.to_json(orient=\"records\")\n",
    "\n",
    "    #Extract Model name\n",
    "    model_name = model_threshold[0]['model']\n",
    "\n",
    "    # Save the JSON to the specified path\n",
    "    with open(f\"{path}best_threshold_{model_name}.json\", \"w\") as json_file:\n",
    "        json_file.write(result)\n",
    "\n",
    "    print(f\"Best threshold saved at: {path}best_threshold_{model_name}.json\")\n",
    "    return best_threshold\n"
   ]
  },
  {
   "cell_type": "code",
   "execution_count": 136,
   "metadata": {},
   "outputs": [
    {
     "name": "stdout",
     "output_type": "stream",
     "text": [
      "Best threshold saved at: ../models/best_threshold_AdaBoostClassifier.json\n",
      "Best threshold saved at: ../models/best_threshold_RandomForestClassifier.json\n",
      "Best threshold saved at: ../models/best_threshold_SklearnXGBClassifier.json\n"
     ]
    }
   ],
   "source": [
    "path = '../models/'\n",
    "\n",
    "adb_best_thresh = best_threshold(adaboost_thresh, path)   # change the model best threshold and path accordingly\n",
    "rf_best_thresh = best_threshold(random_forest_thresh, path)\n",
    "xgb_best_thresh = best_threshold(xgb_thresh, path)"
   ]
  },
  {
   "cell_type": "markdown",
   "metadata": {},
   "source": [
    "Test Models"
   ]
  },
  {
   "cell_type": "code",
   "execution_count": 137,
   "metadata": {},
   "outputs": [],
   "source": [
    "def evaluate_model(best_model, X_test, y_test, best_threshold):\n",
    "    best_model_name = type(best_model).__name__\n",
    "    y_test_prob = best_model.predict_proba(X_test)\n",
    "    threshold_value = best_threshold['threshold']\n",
    "    y_test_pred = (y_test_prob[:, 1] >= threshold_value).astype(int)\n",
    "\n",
    "    report = classification_report(y_test, y_test_pred, output_dict=True)\n",
    "    report_df = pd.DataFrame(report).transpose()\n",
    "    cm = confusion_matrix(y_test, y_test_pred)\n",
    "    confusion_matrix_df = pd.DataFrame(cm, columns=[\"Predicted Negative\", \"Predicted Positive\"],\n",
    "                              index=[\"Actual Negative\", \"Actual Positive\"])\n",
    "\n",
    "    accuracy = accuracy_score(y_test, y_test_pred)\n",
    "    precision = precision_score(y_test, y_test_pred)\n",
    "    recall = recall_score(y_test, y_test_pred)\n",
    "    f1 = f1_score(y_test, y_test_pred)\n",
    "\n",
    "\n",
    "    print(f'Best Threshold: {threshold_value}')\n",
    "    print()\n",
    "    print(report_df)\n",
    "    print()\n",
    "    print(f'Model Name: {best_model_name}')\n",
    "    print(f'Precision Score: {precision}')\n",
    "    print(f'Recall Score: {recall}')\n",
    "    print(f'F1 Score: {f1}')\n",
    "    print(f'Accuracy Score: {accuracy}')\n",
    "    print()\n",
    "    print(confusion_matrix_df)\n",
    "    return"
   ]
  },
  {
   "cell_type": "markdown",
   "metadata": {},
   "source": [
    "ADABoost"
   ]
  },
  {
   "cell_type": "code",
   "execution_count": 144,
   "metadata": {},
   "outputs": [
    {
     "name": "stdout",
     "output_type": "stream",
     "text": [
      "Best Threshold: 0.63\n",
      "\n",
      "              precision    recall  f1-score      support\n",
      "0              0.924115  0.994113  0.957837  2548.000000\n",
      "1              0.971042  0.707454  0.818552   711.000000\n",
      "accuracy       0.931574  0.931574  0.931574     0.931574\n",
      "macro avg      0.947579  0.850784  0.888194  3259.000000\n",
      "weighted avg   0.934353  0.931574  0.927450  3259.000000\n",
      "\n",
      "Model Name: AdaBoostClassifier\n",
      "Precision Score: 0.971042471042471\n",
      "Recall Score: 0.7074542897327707\n",
      "F1 Score: 0.8185516680227828\n",
      "Accuracy Score: 0.9315741024854249\n",
      "\n",
      "                 Predicted Negative  Predicted Positive\n",
      "Actual Negative                2533                  15\n",
      "Actual Positive                 208                 503\n"
     ]
    }
   ],
   "source": [
    "evaluate_model(adaboost_best, X_test, y_test, adb_best_thresh)"
   ]
  },
  {
   "cell_type": "code",
   "execution_count": 147,
   "metadata": {},
   "outputs": [
    {
     "data": {
      "text/plain": [
       "['model.pkl']"
      ]
     },
     "execution_count": 147,
     "metadata": {},
     "output_type": "execute_result"
    }
   ],
   "source": [
    "from sklearn.pipeline import Pipeline\n",
    "joblib.dump(adaboost_best, \"model.pkl\")"
   ]
  },
  {
   "cell_type": "markdown",
   "metadata": {},
   "source": [
    "XGBoost"
   ]
  },
  {
   "cell_type": "code",
   "execution_count": 139,
   "metadata": {},
   "outputs": [
    {
     "name": "stdout",
     "output_type": "stream",
     "text": [
      "Best Threshold: 0.73\n",
      "\n",
      "              precision    recall  f1-score      support\n",
      "0              0.929334  0.990973  0.959164  2548.000000\n",
      "1              0.957565  0.729958  0.828412   711.000000\n",
      "accuracy       0.934029  0.934029  0.934029     0.934029\n",
      "macro avg      0.943449  0.860466  0.893788  3259.000000\n",
      "weighted avg   0.935493  0.934029  0.930639  3259.000000\n",
      "\n",
      "Model Name: SklearnXGBClassifier\n",
      "Precision Score: 0.9575645756457565\n",
      "Recall Score: 0.729957805907173\n",
      "F1 Score: 0.8284118116520351\n",
      "Accuracy Score: 0.9340288432034366\n",
      "\n",
      "                 Predicted Negative  Predicted Positive\n",
      "Actual Negative                2525                  23\n",
      "Actual Positive                 192                 519\n"
     ]
    }
   ],
   "source": [
    "path =  '../models/'\n",
    "\n",
    "evaluate_model(xgb_best, X_test, y_test, xgb_best_thresh)"
   ]
  },
  {
   "cell_type": "markdown",
   "metadata": {},
   "source": [
    "Random Forest"
   ]
  },
  {
   "cell_type": "code",
   "execution_count": 140,
   "metadata": {},
   "outputs": [
    {
     "name": "stdout",
     "output_type": "stream",
     "text": [
      "Best Threshold: 0.68\n",
      "\n",
      "              precision    recall  f1-score      support\n",
      "0              0.925473  0.979592  0.951764  2548.000000\n",
      "1              0.907473  0.717300  0.801257   711.000000\n",
      "accuracy       0.922369  0.922369  0.922369     0.922369\n",
      "macro avg      0.916473  0.848446  0.876510  3259.000000\n",
      "weighted avg   0.921546  0.922369  0.918928  3259.000000\n",
      "\n",
      "Model Name: RandomForestClassifier\n",
      "Precision Score: 0.9074733096085409\n",
      "Recall Score: 0.7172995780590717\n",
      "F1 Score: 0.8012568735271013\n",
      "Accuracy Score: 0.9223688247928813\n",
      "\n",
      "                 Predicted Negative  Predicted Positive\n",
      "Actual Negative                2496                  52\n",
      "Actual Positive                 201                 510\n"
     ]
    }
   ],
   "source": [
    "path =  '../models/'\n",
    "\n",
    "evaluate_model(rf_best, X_test, y_test, rf_best_thresh)"
   ]
  },
  {
   "cell_type": "code",
   "execution_count": null,
   "metadata": {},
   "outputs": [
    {
     "data": {
      "text/plain": [
       "['model.pkl']"
      ]
     },
     "execution_count": 142,
     "metadata": {},
     "output_type": "execute_result"
    }
   ],
   "source": [
    "#import joblib\n",
    "\n",
    "# Simpan model (misalnya, menggunakan joblib)\n",
    "#joblib.dump(xgb_best, \"model.pkl\")\n"
   ]
  },
  {
   "cell_type": "code",
   "execution_count": 143,
   "metadata": {},
   "outputs": [
    {
     "data": {
      "text/plain": [
       "['model.pkl']"
      ]
     },
     "execution_count": 143,
     "metadata": {},
     "output_type": "execute_result"
    }
   ],
   "source": [
    "from sklearn.pipeline import Pipeline\n",
    "joblib.dump(rf_best, \"model.pkl\")\n"
   ]
  }
 ],
 "metadata": {
  "kernelspec": {
   "display_name": ".venv",
   "language": "python",
   "name": "python3"
  },
  "language_info": {
   "codemirror_mode": {
    "name": "ipython",
    "version": 3
   },
   "file_extension": ".py",
   "mimetype": "text/x-python",
   "name": "python",
   "nbconvert_exporter": "python",
   "pygments_lexer": "ipython3",
   "version": "3.12.2"
  }
 },
 "nbformat": 4,
 "nbformat_minor": 2
}
